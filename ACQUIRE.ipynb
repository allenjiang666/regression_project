{
 "cells": [
  {
   "cell_type": "markdown",
   "metadata": {},
   "source": [
    "### ACQUIRE:\n",
    "- Goal: leave this section with a dataframe ready to prepare.\n",
    "\n",
    "- The ad hoc part includes **summarizing your data** as you read it in and begin to explore, look at the **first few rows, data types, summary stats, column names, shape of the data frame, etc**.\n",
    "\n",
    "- `acquire.py`: The reproducible part is the gathering data from SQL."
   ]
  },
  {
   "cell_type": "code",
   "execution_count": 1,
   "metadata": {},
   "outputs": [],
   "source": [
    "import pandas as pd\n",
    "from env import url\n",
    "import os.path"
   ]
  },
  {
   "cell_type": "code",
   "execution_count": 2,
   "metadata": {},
   "outputs": [],
   "source": [
    "#Read from Zillow database and write df to a csv\n",
    "def get_data():\n",
    "    query = '''\n",
    "        SELECT calculatedfinishedsquarefeet as home_size, \n",
    "        bedroomcnt, bathroomcnt, \n",
    "        (taxamount / taxvaluedollarcnt) as tax_rate,\n",
    "        yearbuilt, taxvaluedollarcnt as home_value\n",
    "        FROM properties_2017 \n",
    "        JOIN predictions_2017 USING(id)\n",
    "        WHERE transactiondate >= '2017-05-01' \n",
    "            AND transactiondate <= '2017-06-30'\n",
    "            AND propertylandusetypeid = 261\n",
    "    '''\n",
    "    df = pd.read_sql_query(query, url(\"zillow\"))\n",
    "    df.to_csv('zillow.csv')\n",
    "    return df"
   ]
  },
  {
   "cell_type": "code",
   "execution_count": 3,
   "metadata": {},
   "outputs": [],
   "source": [
    "if os.path.exists('zillow.csv'):\n",
    "    df = pd.read_csv('zillow.csv',  index_col=0)\n",
    "else:\n",
    "    df = get_data()\n"
   ]
  },
  {
   "cell_type": "code",
   "execution_count": 4,
   "metadata": {},
   "outputs": [
    {
     "data": {
      "text/html": [
       "<div>\n",
       "<style scoped>\n",
       "    .dataframe tbody tr th:only-of-type {\n",
       "        vertical-align: middle;\n",
       "    }\n",
       "\n",
       "    .dataframe tbody tr th {\n",
       "        vertical-align: top;\n",
       "    }\n",
       "\n",
       "    .dataframe thead th {\n",
       "        text-align: right;\n",
       "    }\n",
       "</style>\n",
       "<table border=\"1\" class=\"dataframe\">\n",
       "  <thead>\n",
       "    <tr style=\"text-align: right;\">\n",
       "      <th></th>\n",
       "      <th>home_size</th>\n",
       "      <th>bedroomcnt</th>\n",
       "      <th>bathroomcnt</th>\n",
       "      <th>tax_rate</th>\n",
       "      <th>yearbuilt</th>\n",
       "      <th>home_value</th>\n",
       "    </tr>\n",
       "  </thead>\n",
       "  <tbody>\n",
       "    <tr>\n",
       "      <td>0</td>\n",
       "      <td>1604.0</td>\n",
       "      <td>4.0</td>\n",
       "      <td>2.0</td>\n",
       "      <td>0.012220</td>\n",
       "      <td>1950.0</td>\n",
       "      <td>498347.0</td>\n",
       "    </tr>\n",
       "    <tr>\n",
       "      <td>1</td>\n",
       "      <td>2384.0</td>\n",
       "      <td>3.0</td>\n",
       "      <td>3.0</td>\n",
       "      <td>0.012146</td>\n",
       "      <td>1937.0</td>\n",
       "      <td>549917.0</td>\n",
       "    </tr>\n",
       "    <tr>\n",
       "      <td>2</td>\n",
       "      <td>1574.0</td>\n",
       "      <td>3.0</td>\n",
       "      <td>2.0</td>\n",
       "      <td>0.016476</td>\n",
       "      <td>1990.0</td>\n",
       "      <td>235272.0</td>\n",
       "    </tr>\n",
       "    <tr>\n",
       "      <td>3</td>\n",
       "      <td>1619.0</td>\n",
       "      <td>2.0</td>\n",
       "      <td>2.0</td>\n",
       "      <td>0.012371</td>\n",
       "      <td>1983.0</td>\n",
       "      <td>340000.0</td>\n",
       "    </tr>\n",
       "    <tr>\n",
       "      <td>4</td>\n",
       "      <td>2408.0</td>\n",
       "      <td>2.0</td>\n",
       "      <td>3.0</td>\n",
       "      <td>0.012073</td>\n",
       "      <td>1952.0</td>\n",
       "      <td>2017254.0</td>\n",
       "    </tr>\n",
       "  </tbody>\n",
       "</table>\n",
       "</div>"
      ],
      "text/plain": [
       "   home_size  bedroomcnt  bathroomcnt  tax_rate  yearbuilt  home_value\n",
       "0     1604.0         4.0          2.0  0.012220     1950.0    498347.0\n",
       "1     2384.0         3.0          3.0  0.012146     1937.0    549917.0\n",
       "2     1574.0         3.0          2.0  0.016476     1990.0    235272.0\n",
       "3     1619.0         2.0          2.0  0.012371     1983.0    340000.0\n",
       "4     2408.0         2.0          3.0  0.012073     1952.0   2017254.0"
      ]
     },
     "execution_count": 4,
     "metadata": {},
     "output_type": "execute_result"
    }
   ],
   "source": [
    "df.head()"
   ]
  },
  {
   "cell_type": "markdown",
   "metadata": {},
   "source": [
    "**Reading data from csv**"
   ]
  },
  {
   "cell_type": "code",
   "execution_count": 5,
   "metadata": {},
   "outputs": [
    {
     "data": {
      "text/plain": [
       "(16075, 6)"
      ]
     },
     "execution_count": 5,
     "metadata": {},
     "output_type": "execute_result"
    }
   ],
   "source": [
    "df.shape"
   ]
  },
  {
   "cell_type": "code",
   "execution_count": 6,
   "metadata": {},
   "outputs": [
    {
     "data": {
      "text/plain": [
       "home_size      float64\n",
       "bedroomcnt     float64\n",
       "bathroomcnt    float64\n",
       "tax_rate       float64\n",
       "yearbuilt      float64\n",
       "home_value     float64\n",
       "dtype: object"
      ]
     },
     "execution_count": 6,
     "metadata": {},
     "output_type": "execute_result"
    }
   ],
   "source": [
    "df.dtypes"
   ]
  },
  {
   "cell_type": "code",
   "execution_count": 7,
   "metadata": {
    "scrolled": true
   },
   "outputs": [
    {
     "data": {
      "text/html": [
       "<div>\n",
       "<style scoped>\n",
       "    .dataframe tbody tr th:only-of-type {\n",
       "        vertical-align: middle;\n",
       "    }\n",
       "\n",
       "    .dataframe tbody tr th {\n",
       "        vertical-align: top;\n",
       "    }\n",
       "\n",
       "    .dataframe thead th {\n",
       "        text-align: right;\n",
       "    }\n",
       "</style>\n",
       "<table border=\"1\" class=\"dataframe\">\n",
       "  <thead>\n",
       "    <tr style=\"text-align: right;\">\n",
       "      <th></th>\n",
       "      <th>home_size</th>\n",
       "      <th>bedroomcnt</th>\n",
       "      <th>bathroomcnt</th>\n",
       "      <th>tax_rate</th>\n",
       "      <th>yearbuilt</th>\n",
       "      <th>home_value</th>\n",
       "    </tr>\n",
       "  </thead>\n",
       "  <tbody>\n",
       "    <tr>\n",
       "      <td>count</td>\n",
       "      <td>16035.000000</td>\n",
       "      <td>16075.000000</td>\n",
       "      <td>16075.000000</td>\n",
       "      <td>16037.000000</td>\n",
       "      <td>16029.000000</td>\n",
       "      <td>1.607200e+04</td>\n",
       "    </tr>\n",
       "    <tr>\n",
       "      <td>mean</td>\n",
       "      <td>1834.159464</td>\n",
       "      <td>3.234961</td>\n",
       "      <td>2.202799</td>\n",
       "      <td>0.013353</td>\n",
       "      <td>1958.086094</td>\n",
       "      <td>4.641904e+05</td>\n",
       "    </tr>\n",
       "    <tr>\n",
       "      <td>std</td>\n",
       "      <td>988.938585</td>\n",
       "      <td>0.977142</td>\n",
       "      <td>1.036937</td>\n",
       "      <td>0.003783</td>\n",
       "      <td>22.133845</td>\n",
       "      <td>6.537579e+05</td>\n",
       "    </tr>\n",
       "    <tr>\n",
       "      <td>min</td>\n",
       "      <td>60.000000</td>\n",
       "      <td>0.000000</td>\n",
       "      <td>0.000000</td>\n",
       "      <td>0.000032</td>\n",
       "      <td>1862.000000</td>\n",
       "      <td>1.900000e+01</td>\n",
       "    </tr>\n",
       "    <tr>\n",
       "      <td>25%</td>\n",
       "      <td>1231.000000</td>\n",
       "      <td>3.000000</td>\n",
       "      <td>2.000000</td>\n",
       "      <td>0.011917</td>\n",
       "      <td>1947.000000</td>\n",
       "      <td>1.803710e+05</td>\n",
       "    </tr>\n",
       "    <tr>\n",
       "      <td>50%</td>\n",
       "      <td>1590.000000</td>\n",
       "      <td>3.000000</td>\n",
       "      <td>2.000000</td>\n",
       "      <td>0.012461</td>\n",
       "      <td>1955.000000</td>\n",
       "      <td>3.186695e+05</td>\n",
       "    </tr>\n",
       "    <tr>\n",
       "      <td>75%</td>\n",
       "      <td>2160.000000</td>\n",
       "      <td>4.000000</td>\n",
       "      <td>3.000000</td>\n",
       "      <td>0.013695</td>\n",
       "      <td>1971.000000</td>\n",
       "      <td>5.281412e+05</td>\n",
       "    </tr>\n",
       "    <tr>\n",
       "      <td>max</td>\n",
       "      <td>26345.000000</td>\n",
       "      <td>25.000000</td>\n",
       "      <td>20.000000</td>\n",
       "      <td>0.155072</td>\n",
       "      <td>2015.000000</td>\n",
       "      <td>1.912982e+07</td>\n",
       "    </tr>\n",
       "  </tbody>\n",
       "</table>\n",
       "</div>"
      ],
      "text/plain": [
       "          home_size    bedroomcnt   bathroomcnt      tax_rate     yearbuilt  \\\n",
       "count  16035.000000  16075.000000  16075.000000  16037.000000  16029.000000   \n",
       "mean    1834.159464      3.234961      2.202799      0.013353   1958.086094   \n",
       "std      988.938585      0.977142      1.036937      0.003783     22.133845   \n",
       "min       60.000000      0.000000      0.000000      0.000032   1862.000000   \n",
       "25%     1231.000000      3.000000      2.000000      0.011917   1947.000000   \n",
       "50%     1590.000000      3.000000      2.000000      0.012461   1955.000000   \n",
       "75%     2160.000000      4.000000      3.000000      0.013695   1971.000000   \n",
       "max    26345.000000     25.000000     20.000000      0.155072   2015.000000   \n",
       "\n",
       "         home_value  \n",
       "count  1.607200e+04  \n",
       "mean   4.641904e+05  \n",
       "std    6.537579e+05  \n",
       "min    1.900000e+01  \n",
       "25%    1.803710e+05  \n",
       "50%    3.186695e+05  \n",
       "75%    5.281412e+05  \n",
       "max    1.912982e+07  "
      ]
     },
     "execution_count": 7,
     "metadata": {},
     "output_type": "execute_result"
    }
   ],
   "source": [
    "df.describe()"
   ]
  },
  {
   "cell_type": "code",
   "execution_count": 8,
   "metadata": {},
   "outputs": [
    {
     "data": {
      "text/plain": [
       "home_size      40\n",
       "bedroomcnt      0\n",
       "bathroomcnt     0\n",
       "tax_rate       38\n",
       "yearbuilt      46\n",
       "home_value      3\n",
       "dtype: int64"
      ]
     },
     "execution_count": 8,
     "metadata": {},
     "output_type": "execute_result"
    }
   ],
   "source": [
    "df.isnull().sum()"
   ]
  },
  {
   "cell_type": "code",
   "execution_count": 9,
   "metadata": {},
   "outputs": [
    {
     "data": {
      "text/html": [
       "<div>\n",
       "<style scoped>\n",
       "    .dataframe tbody tr th:only-of-type {\n",
       "        vertical-align: middle;\n",
       "    }\n",
       "\n",
       "    .dataframe tbody tr th {\n",
       "        vertical-align: top;\n",
       "    }\n",
       "\n",
       "    .dataframe thead th {\n",
       "        text-align: right;\n",
       "    }\n",
       "</style>\n",
       "<table border=\"1\" class=\"dataframe\">\n",
       "  <thead>\n",
       "    <tr style=\"text-align: right;\">\n",
       "      <th></th>\n",
       "      <th>home_size</th>\n",
       "      <th>bedroomcnt</th>\n",
       "      <th>bathroomcnt</th>\n",
       "      <th>tax_rate</th>\n",
       "      <th>yearbuilt</th>\n",
       "      <th>home_value</th>\n",
       "    </tr>\n",
       "  </thead>\n",
       "  <tbody>\n",
       "    <tr>\n",
       "      <td>5</td>\n",
       "      <td>NaN</td>\n",
       "      <td>0.0</td>\n",
       "      <td>0.0</td>\n",
       "      <td>0.014476</td>\n",
       "      <td>NaN</td>\n",
       "      <td>5240710.0</td>\n",
       "    </tr>\n",
       "    <tr>\n",
       "      <td>1299</td>\n",
       "      <td>NaN</td>\n",
       "      <td>0.0</td>\n",
       "      <td>0.0</td>\n",
       "      <td>NaN</td>\n",
       "      <td>1990.0</td>\n",
       "      <td>19.0</td>\n",
       "    </tr>\n",
       "    <tr>\n",
       "      <td>2081</td>\n",
       "      <td>NaN</td>\n",
       "      <td>0.0</td>\n",
       "      <td>0.0</td>\n",
       "      <td>0.011958</td>\n",
       "      <td>NaN</td>\n",
       "      <td>9710604.0</td>\n",
       "    </tr>\n",
       "    <tr>\n",
       "      <td>2159</td>\n",
       "      <td>NaN</td>\n",
       "      <td>0.0</td>\n",
       "      <td>0.0</td>\n",
       "      <td>0.011948</td>\n",
       "      <td>NaN</td>\n",
       "      <td>2274642.0</td>\n",
       "    </tr>\n",
       "    <tr>\n",
       "      <td>3809</td>\n",
       "      <td>NaN</td>\n",
       "      <td>0.0</td>\n",
       "      <td>0.0</td>\n",
       "      <td>NaN</td>\n",
       "      <td>NaN</td>\n",
       "      <td>9345.0</td>\n",
       "    </tr>\n",
       "  </tbody>\n",
       "</table>\n",
       "</div>"
      ],
      "text/plain": [
       "      home_size  bedroomcnt  bathroomcnt  tax_rate  yearbuilt  home_value\n",
       "5           NaN         0.0          0.0  0.014476        NaN   5240710.0\n",
       "1299        NaN         0.0          0.0       NaN     1990.0        19.0\n",
       "2081        NaN         0.0          0.0  0.011958        NaN   9710604.0\n",
       "2159        NaN         0.0          0.0  0.011948        NaN   2274642.0\n",
       "3809        NaN         0.0          0.0       NaN        NaN      9345.0"
      ]
     },
     "execution_count": 9,
     "metadata": {},
     "output_type": "execute_result"
    }
   ],
   "source": [
    "df[df.home_size.isnull()].head()"
   ]
  },
  {
   "cell_type": "code",
   "execution_count": 10,
   "metadata": {},
   "outputs": [
    {
     "data": {
      "text/html": [
       "<div>\n",
       "<style scoped>\n",
       "    .dataframe tbody tr th:only-of-type {\n",
       "        vertical-align: middle;\n",
       "    }\n",
       "\n",
       "    .dataframe tbody tr th {\n",
       "        vertical-align: top;\n",
       "    }\n",
       "\n",
       "    .dataframe thead th {\n",
       "        text-align: right;\n",
       "    }\n",
       "</style>\n",
       "<table border=\"1\" class=\"dataframe\">\n",
       "  <thead>\n",
       "    <tr style=\"text-align: right;\">\n",
       "      <th></th>\n",
       "      <th>home_size</th>\n",
       "      <th>bedroomcnt</th>\n",
       "      <th>bathroomcnt</th>\n",
       "      <th>tax_rate</th>\n",
       "      <th>yearbuilt</th>\n",
       "      <th>home_value</th>\n",
       "    </tr>\n",
       "  </thead>\n",
       "  <tbody>\n",
       "    <tr>\n",
       "      <td>3985</td>\n",
       "      <td>807.0</td>\n",
       "      <td>3.0</td>\n",
       "      <td>1.0</td>\n",
       "      <td>NaN</td>\n",
       "      <td>1924.0</td>\n",
       "      <td>NaN</td>\n",
       "    </tr>\n",
       "    <tr>\n",
       "      <td>9643</td>\n",
       "      <td>NaN</td>\n",
       "      <td>0.0</td>\n",
       "      <td>0.0</td>\n",
       "      <td>NaN</td>\n",
       "      <td>NaN</td>\n",
       "      <td>NaN</td>\n",
       "    </tr>\n",
       "    <tr>\n",
       "      <td>10047</td>\n",
       "      <td>1650.0</td>\n",
       "      <td>2.0</td>\n",
       "      <td>2.0</td>\n",
       "      <td>NaN</td>\n",
       "      <td>1987.0</td>\n",
       "      <td>NaN</td>\n",
       "    </tr>\n",
       "  </tbody>\n",
       "</table>\n",
       "</div>"
      ],
      "text/plain": [
       "       home_size  bedroomcnt  bathroomcnt  tax_rate  yearbuilt  home_value\n",
       "3985       807.0         3.0          1.0       NaN     1924.0         NaN\n",
       "9643         NaN         0.0          0.0       NaN        NaN         NaN\n",
       "10047     1650.0         2.0          2.0       NaN     1987.0         NaN"
      ]
     },
     "execution_count": 10,
     "metadata": {},
     "output_type": "execute_result"
    }
   ],
   "source": [
    "df[df.home_value.isnull()].head()"
   ]
  },
  {
   "cell_type": "code",
   "execution_count": 11,
   "metadata": {},
   "outputs": [
    {
     "data": {
      "text/html": [
       "<div>\n",
       "<style scoped>\n",
       "    .dataframe tbody tr th:only-of-type {\n",
       "        vertical-align: middle;\n",
       "    }\n",
       "\n",
       "    .dataframe tbody tr th {\n",
       "        vertical-align: top;\n",
       "    }\n",
       "\n",
       "    .dataframe thead th {\n",
       "        text-align: right;\n",
       "    }\n",
       "</style>\n",
       "<table border=\"1\" class=\"dataframe\">\n",
       "  <thead>\n",
       "    <tr style=\"text-align: right;\">\n",
       "      <th></th>\n",
       "      <th>home_size</th>\n",
       "      <th>bedroomcnt</th>\n",
       "      <th>bathroomcnt</th>\n",
       "      <th>tax_rate</th>\n",
       "      <th>yearbuilt</th>\n",
       "      <th>home_value</th>\n",
       "    </tr>\n",
       "  </thead>\n",
       "  <tbody>\n",
       "    <tr>\n",
       "      <td>455</td>\n",
       "      <td>796.0</td>\n",
       "      <td>1.0</td>\n",
       "      <td>1.0</td>\n",
       "      <td>NaN</td>\n",
       "      <td>1920.0</td>\n",
       "      <td>77615.0</td>\n",
       "    </tr>\n",
       "    <tr>\n",
       "      <td>1299</td>\n",
       "      <td>NaN</td>\n",
       "      <td>0.0</td>\n",
       "      <td>0.0</td>\n",
       "      <td>NaN</td>\n",
       "      <td>1990.0</td>\n",
       "      <td>19.0</td>\n",
       "    </tr>\n",
       "    <tr>\n",
       "      <td>1355</td>\n",
       "      <td>1186.0</td>\n",
       "      <td>3.0</td>\n",
       "      <td>2.0</td>\n",
       "      <td>NaN</td>\n",
       "      <td>1955.0</td>\n",
       "      <td>19482.0</td>\n",
       "    </tr>\n",
       "    <tr>\n",
       "      <td>1546</td>\n",
       "      <td>881.0</td>\n",
       "      <td>0.0</td>\n",
       "      <td>0.0</td>\n",
       "      <td>NaN</td>\n",
       "      <td>1928.0</td>\n",
       "      <td>121159.0</td>\n",
       "    </tr>\n",
       "    <tr>\n",
       "      <td>1688</td>\n",
       "      <td>868.0</td>\n",
       "      <td>2.0</td>\n",
       "      <td>1.0</td>\n",
       "      <td>NaN</td>\n",
       "      <td>1949.0</td>\n",
       "      <td>36964.0</td>\n",
       "    </tr>\n",
       "  </tbody>\n",
       "</table>\n",
       "</div>"
      ],
      "text/plain": [
       "      home_size  bedroomcnt  bathroomcnt  tax_rate  yearbuilt  home_value\n",
       "455       796.0         1.0          1.0       NaN     1920.0     77615.0\n",
       "1299        NaN         0.0          0.0       NaN     1990.0        19.0\n",
       "1355     1186.0         3.0          2.0       NaN     1955.0     19482.0\n",
       "1546      881.0         0.0          0.0       NaN     1928.0    121159.0\n",
       "1688      868.0         2.0          1.0       NaN     1949.0     36964.0"
      ]
     },
     "execution_count": 11,
     "metadata": {},
     "output_type": "execute_result"
    }
   ],
   "source": [
    "df[df.tax_rate.isnull()].head()"
   ]
  },
  {
   "cell_type": "code",
   "execution_count": null,
   "metadata": {},
   "outputs": [],
   "source": []
  }
 ],
 "metadata": {
  "kernelspec": {
   "display_name": "Python 3",
   "language": "python",
   "name": "python3"
  },
  "language_info": {
   "codemirror_mode": {
    "name": "ipython",
    "version": 3
   },
   "file_extension": ".py",
   "mimetype": "text/x-python",
   "name": "python",
   "nbconvert_exporter": "python",
   "pygments_lexer": "ipython3",
   "version": "3.7.4"
  }
 },
 "nbformat": 4,
 "nbformat_minor": 2
}
