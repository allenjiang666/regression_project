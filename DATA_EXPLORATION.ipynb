{
 "cells": [
  {
   "cell_type": "markdown",
   "metadata": {},
   "source": [
    "# DATA EXPLORATION\n",
    "- Goal: Address each of the questions you posed in your planning and brainstorming and any others you have come up with along the way through **visual or statistical analysis**.\n",
    "\n",
    "- When you have completed this step, you will have the findings from your analysis that will be used in your final report, answers to specific questions your customers has asked, and information to move forward toward building a model.\n",
    "\n",
    "- Run at least **1 t-test** and **1 correlation test** (but as many as you need!)\n",
    "\n",
    "- **Visualize** all combinations of variables in some way(s).\n",
    "\n",
    "- What **independent variables** are **correlated** with the **dependent**? (this is good)\n",
    "\n",
    "- Which **independent variables** are **correlated** with other **independent** variables? (this is not so good and needs to be addressed)\n",
    "\n",
    "- **Summarize** your takeaways and conclusions."
   ]
  },
  {
   "cell_type": "code",
   "execution_count": 1,
   "metadata": {},
   "outputs": [],
   "source": [
    "import pandas as pd\n",
    "import numpy as np\n",
    "import matplotlib.pyplot as plt\n",
    "import seaborn as sns \n",
    "\n",
    "from split_scale import split_data\n"
   ]
  },
  {
   "cell_type": "code",
   "execution_count": 2,
   "metadata": {},
   "outputs": [
    {
     "data": {
      "text/html": [
       "<div>\n",
       "<style scoped>\n",
       "    .dataframe tbody tr th:only-of-type {\n",
       "        vertical-align: middle;\n",
       "    }\n",
       "\n",
       "    .dataframe tbody tr th {\n",
       "        vertical-align: top;\n",
       "    }\n",
       "\n",
       "    .dataframe thead th {\n",
       "        text-align: right;\n",
       "    }\n",
       "</style>\n",
       "<table border=\"1\" class=\"dataframe\">\n",
       "  <thead>\n",
       "    <tr style=\"text-align: right;\">\n",
       "      <th></th>\n",
       "      <th>home_size</th>\n",
       "      <th>bedroomcnt</th>\n",
       "      <th>bathroomcnt</th>\n",
       "      <th>tax_rate</th>\n",
       "      <th>yearbuilt</th>\n",
       "      <th>fips</th>\n",
       "      <th>home_value</th>\n",
       "      <th>bedrm_per_bathrm</th>\n",
       "    </tr>\n",
       "  </thead>\n",
       "  <tbody>\n",
       "    <tr>\n",
       "      <td>14140</td>\n",
       "      <td>1474.0</td>\n",
       "      <td>3.0</td>\n",
       "      <td>1.0</td>\n",
       "      <td>0.011239</td>\n",
       "      <td>1947.0</td>\n",
       "      <td>6037.0</td>\n",
       "      <td>376762.0</td>\n",
       "      <td>3.0</td>\n",
       "    </tr>\n",
       "    <tr>\n",
       "      <td>12285</td>\n",
       "      <td>1038.0</td>\n",
       "      <td>2.0</td>\n",
       "      <td>1.0</td>\n",
       "      <td>0.013987</td>\n",
       "      <td>1947.0</td>\n",
       "      <td>6037.0</td>\n",
       "      <td>273788.0</td>\n",
       "      <td>2.0</td>\n",
       "    </tr>\n",
       "    <tr>\n",
       "      <td>13357</td>\n",
       "      <td>1430.0</td>\n",
       "      <td>3.0</td>\n",
       "      <td>2.0</td>\n",
       "      <td>0.012328</td>\n",
       "      <td>1948.0</td>\n",
       "      <td>6037.0</td>\n",
       "      <td>293323.0</td>\n",
       "      <td>1.5</td>\n",
       "    </tr>\n",
       "    <tr>\n",
       "      <td>14130</td>\n",
       "      <td>1221.0</td>\n",
       "      <td>3.0</td>\n",
       "      <td>2.0</td>\n",
       "      <td>0.011433</td>\n",
       "      <td>1950.0</td>\n",
       "      <td>6037.0</td>\n",
       "      <td>209995.0</td>\n",
       "      <td>1.5</td>\n",
       "    </tr>\n",
       "    <tr>\n",
       "      <td>1187</td>\n",
       "      <td>1995.0</td>\n",
       "      <td>3.0</td>\n",
       "      <td>3.0</td>\n",
       "      <td>0.016237</td>\n",
       "      <td>1990.0</td>\n",
       "      <td>6037.0</td>\n",
       "      <td>227220.0</td>\n",
       "      <td>1.0</td>\n",
       "    </tr>\n",
       "  </tbody>\n",
       "</table>\n",
       "</div>"
      ],
      "text/plain": [
       "       home_size  bedroomcnt  bathroomcnt  tax_rate  yearbuilt    fips  \\\n",
       "14140     1474.0         3.0          1.0  0.011239     1947.0  6037.0   \n",
       "12285     1038.0         2.0          1.0  0.013987     1947.0  6037.0   \n",
       "13357     1430.0         3.0          2.0  0.012328     1948.0  6037.0   \n",
       "14130     1221.0         3.0          2.0  0.011433     1950.0  6037.0   \n",
       "1187      1995.0         3.0          3.0  0.016237     1990.0  6037.0   \n",
       "\n",
       "       home_value  bedrm_per_bathrm  \n",
       "14140    376762.0               3.0  \n",
       "12285    273788.0               2.0  \n",
       "13357    293323.0               1.5  \n",
       "14130    209995.0               1.5  \n",
       "1187     227220.0               1.0  "
      ]
     },
     "execution_count": 2,
     "metadata": {},
     "output_type": "execute_result"
    }
   ],
   "source": [
    "train, test= split_data()\n",
    "train.head()"
   ]
  },
  {
   "cell_type": "code",
   "execution_count": 3,
   "metadata": {
    "scrolled": true
   },
   "outputs": [
    {
     "data": {
      "text/html": [
       "<div>\n",
       "<style scoped>\n",
       "    .dataframe tbody tr th:only-of-type {\n",
       "        vertical-align: middle;\n",
       "    }\n",
       "\n",
       "    .dataframe tbody tr th {\n",
       "        vertical-align: top;\n",
       "    }\n",
       "\n",
       "    .dataframe thead th {\n",
       "        text-align: right;\n",
       "    }\n",
       "</style>\n",
       "<table border=\"1\" class=\"dataframe\">\n",
       "  <thead>\n",
       "    <tr style=\"text-align: right;\">\n",
       "      <th></th>\n",
       "      <th>home_size</th>\n",
       "      <th>bedroomcnt</th>\n",
       "      <th>bathroomcnt</th>\n",
       "      <th>tax_rate</th>\n",
       "      <th>yearbuilt</th>\n",
       "      <th>fips</th>\n",
       "      <th>home_value</th>\n",
       "      <th>bedrm_per_bathrm</th>\n",
       "    </tr>\n",
       "  </thead>\n",
       "  <tbody>\n",
       "    <tr>\n",
       "      <td>count</td>\n",
       "      <td>9896.000000</td>\n",
       "      <td>9896.000000</td>\n",
       "      <td>9896.000000</td>\n",
       "      <td>9896.000000</td>\n",
       "      <td>9896.000000</td>\n",
       "      <td>9896.000000</td>\n",
       "      <td>9896.000000</td>\n",
       "      <td>9896.000000</td>\n",
       "    </tr>\n",
       "    <tr>\n",
       "      <td>mean</td>\n",
       "      <td>1583.968169</td>\n",
       "      <td>3.099535</td>\n",
       "      <td>1.960691</td>\n",
       "      <td>0.013141</td>\n",
       "      <td>1955.384802</td>\n",
       "      <td>6043.283145</td>\n",
       "      <td>319912.060732</td>\n",
       "      <td>1.714774</td>\n",
       "    </tr>\n",
       "    <tr>\n",
       "      <td>std</td>\n",
       "      <td>537.110853</td>\n",
       "      <td>0.804922</td>\n",
       "      <td>0.673411</td>\n",
       "      <td>0.001675</td>\n",
       "      <td>20.149965</td>\n",
       "      <td>16.141149</td>\n",
       "      <td>191799.183389</td>\n",
       "      <td>0.576147</td>\n",
       "    </tr>\n",
       "    <tr>\n",
       "      <td>min</td>\n",
       "      <td>320.000000</td>\n",
       "      <td>0.000000</td>\n",
       "      <td>1.000000</td>\n",
       "      <td>0.010687</td>\n",
       "      <td>1880.000000</td>\n",
       "      <td>6037.000000</td>\n",
       "      <td>12788.000000</td>\n",
       "      <td>0.000000</td>\n",
       "    </tr>\n",
       "    <tr>\n",
       "      <td>25%</td>\n",
       "      <td>1196.000000</td>\n",
       "      <td>3.000000</td>\n",
       "      <td>1.500000</td>\n",
       "      <td>0.012110</td>\n",
       "      <td>1947.000000</td>\n",
       "      <td>6037.000000</td>\n",
       "      <td>173450.750000</td>\n",
       "      <td>1.333333</td>\n",
       "    </tr>\n",
       "    <tr>\n",
       "      <td>50%</td>\n",
       "      <td>1494.000000</td>\n",
       "      <td>3.000000</td>\n",
       "      <td>2.000000</td>\n",
       "      <td>0.012590</td>\n",
       "      <td>1954.000000</td>\n",
       "      <td>6037.000000</td>\n",
       "      <td>285138.500000</td>\n",
       "      <td>1.500000</td>\n",
       "    </tr>\n",
       "    <tr>\n",
       "      <td>75%</td>\n",
       "      <td>1890.000000</td>\n",
       "      <td>4.000000</td>\n",
       "      <td>2.000000</td>\n",
       "      <td>0.013739</td>\n",
       "      <td>1965.000000</td>\n",
       "      <td>6037.000000</td>\n",
       "      <td>436896.250000</td>\n",
       "      <td>2.000000</td>\n",
       "    </tr>\n",
       "    <tr>\n",
       "      <td>max</td>\n",
       "      <td>3511.000000</td>\n",
       "      <td>5.000000</td>\n",
       "      <td>3.000000</td>\n",
       "      <td>0.018991</td>\n",
       "      <td>2015.000000</td>\n",
       "      <td>6111.000000</td>\n",
       "      <td>877000.000000</td>\n",
       "      <td>5.000000</td>\n",
       "    </tr>\n",
       "  </tbody>\n",
       "</table>\n",
       "</div>"
      ],
      "text/plain": [
       "         home_size   bedroomcnt  bathroomcnt     tax_rate    yearbuilt  \\\n",
       "count  9896.000000  9896.000000  9896.000000  9896.000000  9896.000000   \n",
       "mean   1583.968169     3.099535     1.960691     0.013141  1955.384802   \n",
       "std     537.110853     0.804922     0.673411     0.001675    20.149965   \n",
       "min     320.000000     0.000000     1.000000     0.010687  1880.000000   \n",
       "25%    1196.000000     3.000000     1.500000     0.012110  1947.000000   \n",
       "50%    1494.000000     3.000000     2.000000     0.012590  1954.000000   \n",
       "75%    1890.000000     4.000000     2.000000     0.013739  1965.000000   \n",
       "max    3511.000000     5.000000     3.000000     0.018991  2015.000000   \n",
       "\n",
       "              fips     home_value  bedrm_per_bathrm  \n",
       "count  9896.000000    9896.000000       9896.000000  \n",
       "mean   6043.283145  319912.060732          1.714774  \n",
       "std      16.141149  191799.183389          0.576147  \n",
       "min    6037.000000   12788.000000          0.000000  \n",
       "25%    6037.000000  173450.750000          1.333333  \n",
       "50%    6037.000000  285138.500000          1.500000  \n",
       "75%    6037.000000  436896.250000          2.000000  \n",
       "max    6111.000000  877000.000000          5.000000  "
      ]
     },
     "execution_count": 3,
     "metadata": {},
     "output_type": "execute_result"
    }
   ],
   "source": [
    "train.describe()"
   ]
  },
  {
   "cell_type": "code",
   "execution_count": 4,
   "metadata": {
    "scrolled": true
   },
   "outputs": [
    {
     "data": {
      "text/plain": [
       "6037.0    8053\n",
       "6059.0    1427\n",
       "6111.0     416\n",
       "Name: fips, dtype: int64"
      ]
     },
     "execution_count": 4,
     "metadata": {},
     "output_type": "execute_result"
    }
   ],
   "source": [
    "train.fips.value_counts()"
   ]
  },
  {
   "cell_type": "code",
   "execution_count": 5,
   "metadata": {
    "scrolled": true
   },
   "outputs": [
    {
     "data": {
      "text/html": [
       "<div>\n",
       "<style scoped>\n",
       "    .dataframe tbody tr th:only-of-type {\n",
       "        vertical-align: middle;\n",
       "    }\n",
       "\n",
       "    .dataframe tbody tr th {\n",
       "        vertical-align: top;\n",
       "    }\n",
       "\n",
       "    .dataframe thead th {\n",
       "        text-align: right;\n",
       "    }\n",
       "</style>\n",
       "<table border=\"1\" class=\"dataframe\">\n",
       "  <thead>\n",
       "    <tr style=\"text-align: right;\">\n",
       "      <th></th>\n",
       "      <th>home_size</th>\n",
       "      <th>bedroomcnt</th>\n",
       "      <th>bathroomcnt</th>\n",
       "      <th>tax_rate</th>\n",
       "      <th>yearbuilt</th>\n",
       "      <th>fips</th>\n",
       "      <th>home_value</th>\n",
       "      <th>bedrm_per_bathrm</th>\n",
       "    </tr>\n",
       "  </thead>\n",
       "  <tbody>\n",
       "    <tr>\n",
       "      <td>14140</td>\n",
       "      <td>1474.0</td>\n",
       "      <td>3.0</td>\n",
       "      <td>1.0</td>\n",
       "      <td>0.011239</td>\n",
       "      <td>1947.0</td>\n",
       "      <td>6037.0</td>\n",
       "      <td>376762.0</td>\n",
       "      <td>3.0</td>\n",
       "    </tr>\n",
       "    <tr>\n",
       "      <td>12285</td>\n",
       "      <td>1038.0</td>\n",
       "      <td>2.0</td>\n",
       "      <td>1.0</td>\n",
       "      <td>0.013987</td>\n",
       "      <td>1947.0</td>\n",
       "      <td>6037.0</td>\n",
       "      <td>273788.0</td>\n",
       "      <td>2.0</td>\n",
       "    </tr>\n",
       "    <tr>\n",
       "      <td>13357</td>\n",
       "      <td>1430.0</td>\n",
       "      <td>3.0</td>\n",
       "      <td>2.0</td>\n",
       "      <td>0.012328</td>\n",
       "      <td>1948.0</td>\n",
       "      <td>6037.0</td>\n",
       "      <td>293323.0</td>\n",
       "      <td>1.5</td>\n",
       "    </tr>\n",
       "    <tr>\n",
       "      <td>14130</td>\n",
       "      <td>1221.0</td>\n",
       "      <td>3.0</td>\n",
       "      <td>2.0</td>\n",
       "      <td>0.011433</td>\n",
       "      <td>1950.0</td>\n",
       "      <td>6037.0</td>\n",
       "      <td>209995.0</td>\n",
       "      <td>1.5</td>\n",
       "    </tr>\n",
       "    <tr>\n",
       "      <td>1187</td>\n",
       "      <td>1995.0</td>\n",
       "      <td>3.0</td>\n",
       "      <td>3.0</td>\n",
       "      <td>0.016237</td>\n",
       "      <td>1990.0</td>\n",
       "      <td>6037.0</td>\n",
       "      <td>227220.0</td>\n",
       "      <td>1.0</td>\n",
       "    </tr>\n",
       "  </tbody>\n",
       "</table>\n",
       "</div>"
      ],
      "text/plain": [
       "       home_size  bedroomcnt  bathroomcnt  tax_rate  yearbuilt    fips  \\\n",
       "14140     1474.0         3.0          1.0  0.011239     1947.0  6037.0   \n",
       "12285     1038.0         2.0          1.0  0.013987     1947.0  6037.0   \n",
       "13357     1430.0         3.0          2.0  0.012328     1948.0  6037.0   \n",
       "14130     1221.0         3.0          2.0  0.011433     1950.0  6037.0   \n",
       "1187      1995.0         3.0          3.0  0.016237     1990.0  6037.0   \n",
       "\n",
       "       home_value  bedrm_per_bathrm  \n",
       "14140    376762.0               3.0  \n",
       "12285    273788.0               2.0  \n",
       "13357    293323.0               1.5  \n",
       "14130    209995.0               1.5  \n",
       "1187     227220.0               1.0  "
      ]
     },
     "execution_count": 5,
     "metadata": {},
     "output_type": "execute_result"
    }
   ],
   "source": [
    "train[train.fips == 6037].head()"
   ]
  },
  {
   "cell_type": "markdown",
   "metadata": {},
   "source": [
    "## Tax rate distribution"
   ]
  },
  {
   "cell_type": "code",
   "execution_count": 6,
   "metadata": {},
   "outputs": [
    {
     "data": {
      "text/plain": [
       "Text(0.5, 0, 'tax_rate')"
      ]
     },
     "execution_count": 6,
     "metadata": {},
     "output_type": "execute_result"
    },
    {
     "data": {
      "image/png": "[encoded data removed]",
      "text/plain": [
       "<Figure size 1152x648 with 3 Axes>"
      ]
     },
     "metadata": {
      "needs_background": "light"
     },
     "output_type": "display_data"
    }
   ],
   "source": [
    "plt.figure(figsize = (16,9))\n",
    "\n",
    "plt.subplot(131)\n",
    "plt.hist(train[train.fips == 6037].tax_rate)\n",
    "plt.title('Los Angles')\n",
    "plt.xlabel('tax_rate')\n",
    "\n",
    "# the second subplot\n",
    "plt.subplot(132)\n",
    "plt.hist(train[train.fips == 6059].tax_rate)\n",
    "plt.title('Orange')\n",
    "plt.xlabel('tax_rate')\n",
    "\n",
    "plt.subplot(133)\n",
    "plt.hist(train[train.fips == 6111].tax_rate)\n",
    "plt.title('Venture')\n",
    "plt.xlabel('tax_rate')"
   ]
  },
  {
   "cell_type": "code",
   "execution_count": 7,
   "metadata": {
    "scrolled": true
   },
   "outputs": [
    {
     "data": {
      "text/html": [
       "<div>\n",
       "<style scoped>\n",
       "    .dataframe tbody tr th:only-of-type {\n",
       "        vertical-align: middle;\n",
       "    }\n",
       "\n",
       "    .dataframe tbody tr th {\n",
       "        vertical-align: top;\n",
       "    }\n",
       "\n",
       "    .dataframe thead th {\n",
       "        text-align: right;\n",
       "    }\n",
       "</style>\n",
       "<table border=\"1\" class=\"dataframe\">\n",
       "  <thead>\n",
       "    <tr style=\"text-align: right;\">\n",
       "      <th></th>\n",
       "      <th>count</th>\n",
       "      <th>mean</th>\n",
       "      <th>std</th>\n",
       "      <th>min</th>\n",
       "      <th>25%</th>\n",
       "      <th>50%</th>\n",
       "      <th>75%</th>\n",
       "      <th>max</th>\n",
       "    </tr>\n",
       "    <tr>\n",
       "      <th>fips</th>\n",
       "      <th></th>\n",
       "      <th></th>\n",
       "      <th></th>\n",
       "      <th></th>\n",
       "      <th></th>\n",
       "      <th></th>\n",
       "      <th></th>\n",
       "      <th></th>\n",
       "    </tr>\n",
       "  </thead>\n",
       "  <tbody>\n",
       "    <tr>\n",
       "      <td>6037.0</td>\n",
       "      <td>8053.0</td>\n",
       "      <td>0.013309</td>\n",
       "      <td>0.001665</td>\n",
       "      <td>0.010734</td>\n",
       "      <td>0.012231</td>\n",
       "      <td>0.012716</td>\n",
       "      <td>0.013917</td>\n",
       "      <td>0.018991</td>\n",
       "    </tr>\n",
       "    <tr>\n",
       "      <td>6059.0</td>\n",
       "      <td>1427.0</td>\n",
       "      <td>0.012595</td>\n",
       "      <td>0.001567</td>\n",
       "      <td>0.010702</td>\n",
       "      <td>0.011556</td>\n",
       "      <td>0.012093</td>\n",
       "      <td>0.013082</td>\n",
       "      <td>0.018939</td>\n",
       "    </tr>\n",
       "    <tr>\n",
       "      <td>6111.0</td>\n",
       "      <td>416.0</td>\n",
       "      <td>0.011757</td>\n",
       "      <td>0.001088</td>\n",
       "      <td>0.010687</td>\n",
       "      <td>0.011084</td>\n",
       "      <td>0.011554</td>\n",
       "      <td>0.012050</td>\n",
       "      <td>0.017957</td>\n",
       "    </tr>\n",
       "  </tbody>\n",
       "</table>\n",
       "</div>"
      ],
      "text/plain": [
       "         count      mean       std       min       25%       50%       75%  \\\n",
       "fips                                                                         \n",
       "6037.0  8053.0  0.013309  0.001665  0.010734  0.012231  0.012716  0.013917   \n",
       "6059.0  1427.0  0.012595  0.001567  0.010702  0.011556  0.012093  0.013082   \n",
       "6111.0   416.0  0.011757  0.001088  0.010687  0.011084  0.011554  0.012050   \n",
       "\n",
       "             max  \n",
       "fips              \n",
       "6037.0  0.018991  \n",
       "6059.0  0.018939  \n",
       "6111.0  0.017957  "
      ]
     },
     "execution_count": 7,
     "metadata": {},
     "output_type": "execute_result"
    }
   ],
   "source": [
    "train.groupby('fips').tax_rate.describe()"
   ]
  },
  {
   "cell_type": "code",
   "execution_count": null,
   "metadata": {},
   "outputs": [],
   "source": []
  },
  {
   "cell_type": "code",
   "execution_count": 8,
   "metadata": {},
   "outputs": [
    {
     "data": {
      "text/plain": [
       "<seaborn.axisgrid.PairGrid at 0x1a25173410>"
      ]
     },
     "execution_count": 8,
     "metadata": {},
     "output_type": "execute_result"
    },
    {
     "data": {
      "image/png": "[encoded data removed]",
      "text/plain": [
       "<Figure size 1080x180 with 6 Axes>"
      ]
     },
     "metadata": {
      "needs_background": "light"
     },
     "output_type": "display_data"
    }
   ],
   "source": [
    "X = ['home_size', 'bedroomcnt', 'bathroomcnt', 'tax_rate', 'yearbuilt', 'bedrm_per_bathrm']\n",
    "sns.pairplot(train, x_vars = X , y_vars='home_size')"
   ]
  },
  {
   "cell_type": "code",
   "execution_count": 9,
   "metadata": {},
   "outputs": [
    {
     "data": {
      "text/plain": [
       "<bound method IndexOpsMixin.value_counts of 14140    0.011239\n",
       "12285    0.013987\n",
       "13357    0.012328\n",
       "14130    0.011433\n",
       "1187     0.016237\n",
       "           ...   \n",
       "6387     0.013676\n",
       "15949    0.018046\n",
       "1570     0.016127\n",
       "15201    0.012141\n",
       "4493     0.012445\n",
       "Name: tax_rate, Length: 9896, dtype: float64>"
      ]
     },
     "execution_count": 9,
     "metadata": {},
     "output_type": "execute_result"
    }
   ],
   "source": [
    "train.tax_rate.value_counts"
   ]
  },
  {
   "cell_type": "code",
   "execution_count": 10,
   "metadata": {},
   "outputs": [
    {
     "data": {
      "text/plain": [
       "0.01068739331288124"
      ]
     },
     "execution_count": 10,
     "metadata": {},
     "output_type": "execute_result"
    }
   ],
   "source": [
    "train.tax_rate.min()"
   ]
  },
  {
   "cell_type": "code",
   "execution_count": 11,
   "metadata": {},
   "outputs": [
    {
     "data": {
      "text/html": [
       "<div>\n",
       "<style scoped>\n",
       "    .dataframe tbody tr th:only-of-type {\n",
       "        vertical-align: middle;\n",
       "    }\n",
       "\n",
       "    .dataframe tbody tr th {\n",
       "        vertical-align: top;\n",
       "    }\n",
       "\n",
       "    .dataframe thead th {\n",
       "        text-align: right;\n",
       "    }\n",
       "</style>\n",
       "<table border=\"1\" class=\"dataframe\">\n",
       "  <thead>\n",
       "    <tr style=\"text-align: right;\">\n",
       "      <th></th>\n",
       "      <th>home_value</th>\n",
       "    </tr>\n",
       "  </thead>\n",
       "  <tbody>\n",
       "    <tr>\n",
       "      <td>fips</td>\n",
       "      <td>0.065989</td>\n",
       "    </tr>\n",
       "    <tr>\n",
       "      <td>bedroomcnt</td>\n",
       "      <td>0.167004</td>\n",
       "    </tr>\n",
       "    <tr>\n",
       "      <td>bedrm_per_bathrm</td>\n",
       "      <td>0.176188</td>\n",
       "    </tr>\n",
       "    <tr>\n",
       "      <td>yearbuilt</td>\n",
       "      <td>0.178690</td>\n",
       "    </tr>\n",
       "    <tr>\n",
       "      <td>bathroomcnt</td>\n",
       "      <td>0.286013</td>\n",
       "    </tr>\n",
       "    <tr>\n",
       "      <td>home_size</td>\n",
       "      <td>0.367911</td>\n",
       "    </tr>\n",
       "    <tr>\n",
       "      <td>tax_rate</td>\n",
       "      <td>0.538066</td>\n",
       "    </tr>\n",
       "    <tr>\n",
       "      <td>home_value</td>\n",
       "      <td>1.000000</td>\n",
       "    </tr>\n",
       "  </tbody>\n",
       "</table>\n",
       "</div>"
      ],
      "text/plain": [
       "                  home_value\n",
       "fips                0.065989\n",
       "bedroomcnt          0.167004\n",
       "bedrm_per_bathrm    0.176188\n",
       "yearbuilt           0.178690\n",
       "bathroomcnt         0.286013\n",
       "home_size           0.367911\n",
       "tax_rate            0.538066\n",
       "home_value          1.000000"
      ]
     },
     "execution_count": 11,
     "metadata": {},
     "output_type": "execute_result"
    }
   ],
   "source": [
    "train.corr()[['home_value']].abs().sort_values(by = 'home_value')"
   ]
  },
  {
   "cell_type": "code",
   "execution_count": 12,
   "metadata": {
    "scrolled": false
   },
   "outputs": [
    {
     "data": {
      "text/plain": [
       "<matplotlib.axes._subplots.AxesSubplot at 0x1a2566bd10>"
      ]
     },
     "execution_count": 12,
     "metadata": {},
     "output_type": "execute_result"
    },
    {
     "data": {
      "image/png": "[encoded data removed]",
      "text/plain": [
       "<Figure size 432x288 with 2 Axes>"
      ]
     },
     "metadata": {
      "needs_background": "light"
     },
     "output_type": "display_data"
    }
   ],
   "source": [
    "sns.heatmap(train.corr())"
   ]
  },
  {
   "cell_type": "code",
   "execution_count": null,
   "metadata": {},
   "outputs": [],
   "source": []
  },
  {
   "cell_type": "markdown",
   "metadata": {},
   "source": [
    "## t_test"
   ]
  },
  {
   "cell_type": "markdown",
   "metadata": {},
   "source": [
    "#### Question: Are the home_values of the 3 bedrooms  higher than the ones with only 2 bedrooms\n",
    "- $H_0$: There is no difference between those two \n",
    "- $H_0$: There is a differnce \n",
    "\n",
    "Hypothesis test: Two_sample_t_test  \n",
    "$a$ = 0.05"
   ]
  },
  {
   "cell_type": "code",
   "execution_count": 13,
   "metadata": {},
   "outputs": [],
   "source": [
    "from scipy import stats"
   ]
  },
  {
   "cell_type": "code",
   "execution_count": 14,
   "metadata": {},
   "outputs": [],
   "source": [
    "x1 = train[train.bedroomcnt == 3].home_value\n",
    "x2 = train[train.bedroomcnt == 2].home_value"
   ]
  },
  {
   "cell_type": "code",
   "execution_count": 15,
   "metadata": {},
   "outputs": [
    {
     "data": {
      "text/plain": [
       "8.010046744917538e-10"
      ]
     },
     "execution_count": 15,
     "metadata": {},
     "output_type": "execute_result"
    }
   ],
   "source": [
    "t, p = stats.ttest_ind(x1, x2)\n",
    "p "
   ]
  },
  {
   "cell_type": "markdown",
   "metadata": {},
   "source": [
    "Because p is less than a, we can conclude that there is a difference between home with 3 bedrooms and home with 2 bedrooms"
   ]
  },
  {
   "cell_type": "markdown",
   "metadata": {},
   "source": [
    "## Correlation Test"
   ]
  },
  {
   "cell_type": "markdown",
   "metadata": {},
   "source": [
    "1: Question:Does **tax rate** and **home_value** have a linear correlation  \n",
    "- $H_0$: They don't   \n",
    "- $H_0$: They do  \n",
    "    \n",
    "Hypothesis Test: Pearson's Correlation Coefficient"
   ]
  },
  {
   "cell_type": "code",
   "execution_count": 16,
   "metadata": {},
   "outputs": [],
   "source": [
    "x = train.tax_rate\n",
    "y = train.home_value"
   ]
  },
  {
   "cell_type": "code",
   "execution_count": 17,
   "metadata": {},
   "outputs": [
    {
     "data": {
      "text/plain": [
       "(-0.5380662326247586, 0.0)"
      ]
     },
     "execution_count": 17,
     "metadata": {},
     "output_type": "execute_result"
    }
   ],
   "source": [
    "corr, p = stats.pearsonr(x, y)\n",
    "corr, p"
   ]
  },
  {
   "cell_type": "markdown",
   "metadata": {},
   "source": [
    "2: Question:Does **home_size** and **home_value** have a linear correlation\n",
    "- $H_0$: They don't \n",
    "- $H_0$: They do  \n",
    "    \n",
    "Hypothesis Test: Pearson's Correlation Coefficient"
   ]
  },
  {
   "cell_type": "code",
   "execution_count": 18,
   "metadata": {},
   "outputs": [],
   "source": [
    "x = train.home_size\n",
    "y = train.home_value"
   ]
  },
  {
   "cell_type": "code",
   "execution_count": 19,
   "metadata": {
    "scrolled": true
   },
   "outputs": [
    {
     "data": {
      "text/plain": [
       "(0.36791074901390625, 7.35766531e-315)"
      ]
     },
     "execution_count": 19,
     "metadata": {},
     "output_type": "execute_result"
    }
   ],
   "source": [
    "corr, p = stats.pearsonr(x, y)\n",
    "corr, p"
   ]
  },
  {
   "cell_type": "markdown",
   "metadata": {},
   "source": [
    "3: Question:Does **bedrm_per_bathrm** and **home_value** have a linear correlation\n",
    "- $H_0$ : They don't \n",
    "- $H_0$ : They do  \n",
    "    \n",
    "Hypothesis Test: Pearson's Correlation Coefficient"
   ]
  },
  {
   "cell_type": "code",
   "execution_count": 20,
   "metadata": {
    "scrolled": true
   },
   "outputs": [
    {
     "data": {
      "text/plain": [
       "(-0.1761882586251586, 8.069329369324077e-70)"
      ]
     },
     "execution_count": 20,
     "metadata": {},
     "output_type": "execute_result"
    }
   ],
   "source": [
    "x = train.bedrm_per_bathrm\n",
    "y = train.home_value\n",
    "corr, p = stats.pearsonr(x, y)\n",
    "corr, p"
   ]
  },
  {
   "cell_type": "markdown",
   "metadata": {},
   "source": [
    "4: Question:Does **yearbuilt** and **home_value** have a linear correlation\n",
    "    \n",
    "    - $H_0$: They don't \n",
    "    - $H_0$: They do  \n",
    "    \n",
    "Hypothesis Test: Pearson's Correlation Coefficient"
   ]
  },
  {
   "cell_type": "code",
   "execution_count": 21,
   "metadata": {},
   "outputs": [
    {
     "data": {
      "text/plain": [
       "(0.17869042578464694, 8.530538180404727e-72)"
      ]
     },
     "execution_count": 21,
     "metadata": {},
     "output_type": "execute_result"
    }
   ],
   "source": [
    "x = train.yearbuilt\n",
    "y = train.home_value\n",
    "corr, p = stats.pearsonr(x, y)\n",
    "corr, p"
   ]
  },
  {
   "cell_type": "markdown",
   "metadata": {},
   "source": [
    "5.: Question:Does **home_size** and **bathroomcnt** have a linear correlation\n",
    "- $H_0$: They don't \n",
    "- $H_0$: They do  \n",
    "    \n",
    "Hypothesis Test: Pearson's Correlation Coefficient"
   ]
  },
  {
   "cell_type": "code",
   "execution_count": 22,
   "metadata": {},
   "outputs": [
    {
     "data": {
      "text/plain": [
       "(0.7428771163759361, 0.0)"
      ]
     },
     "execution_count": 22,
     "metadata": {},
     "output_type": "execute_result"
    }
   ],
   "source": [
    "x = train.bathroomcnt\n",
    "y = train.home_size\n",
    "corr, p = stats.pearsonr(x, y)\n",
    "corr, p"
   ]
  },
  {
   "cell_type": "markdown",
   "metadata": {},
   "source": [
    "6.: Question:Does **bedroomcnt** and **bathroomcnt** have a linear correlation\n",
    "- $H_0$: They don't \n",
    "- $H_0$: They do  \n",
    "    \n",
    "Hypothesis Test: Pearson's Correlation Coefficient"
   ]
  },
  {
   "cell_type": "code",
   "execution_count": 23,
   "metadata": {},
   "outputs": [
    {
     "data": {
      "text/plain": [
       "(0.5845454753434592, 0.0)"
      ]
     },
     "execution_count": 23,
     "metadata": {},
     "output_type": "execute_result"
    }
   ],
   "source": [
    "x = train.bathroomcnt\n",
    "y = train.bedroomcnt\n",
    "corr, p = stats.pearsonr(x, y)\n",
    "corr, p"
   ]
  },
  {
   "cell_type": "markdown",
   "metadata": {},
   "source": [
    "## Summary"
   ]
  },
  {
   "cell_type": "markdown",
   "metadata": {},
   "source": [
    "- Home_size, bedroomcnt and bathroomcnt are all strongly correlated, So when doing the feature selection, It is preferred to use rfe method.\n",
    "- It is a kind of domin knowlege that the higher the propert tax, ther better the neigbourhood, so the price of a home is higher. And the relation test show the have absolute linear relaitonship.\n",
    "- Even though it is pretty common to think the age of a house is positvely related to the home price, but some how the data did not give us very strong correlations."
   ]
  },
  {
   "cell_type": "code",
   "execution_count": null,
   "metadata": {},
   "outputs": [],
   "source": []
  }
 ],
 "metadata": {
  "kernelspec": {
   "display_name": "Python 3",
   "language": "python",
   "name": "python3"
  },
  "language_info": {
   "codemirror_mode": {
    "name": "ipython",
    "version": 3
   },
   "file_extension": ".py",
   "mimetype": "text/x-python",
   "name": "python",
   "nbconvert_exporter": "python",
   "pygments_lexer": "ipython3",
   "version": "3.7.4"
  }
 },
 "nbformat": 4,
 "nbformat_minor": 2
}
