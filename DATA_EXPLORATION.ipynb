{
 "cells": [
  {
   "cell_type": "markdown",
   "metadata": {},
   "source": [
    "# DATA EXPLORATION\n",
    "- Goal: Address each of the questions you posed in your planning and brainstorming and any others you have come up with along the way through **visual or statistical analysis**.\n",
    "\n",
    "- When you have completed this step, you will have the findings from your analysis that will be used in your final report, answers to specific questions your customers has asked, and information to move forward toward building a model.\n",
    "\n",
    "- Run at least **1 t-test** and **1 correlation test** (but as many as you need!)\n",
    "\n",
    "- **Visualize** all combinations of variables in some way(s).\n",
    "\n",
    "- What **independent variables** are **correlated** with the **dependent**? (this is good)\n",
    "\n",
    "- Which **independent variables** are **correlated** with other **independent** variables? (this is not so good and needs to be addressed)\n",
    "\n",
    "- **Summarize** your takeaways and conclusions."
   ]
  },
  {
   "cell_type": "code",
   "execution_count": 1,
   "metadata": {},
   "outputs": [],
   "source": [
    "import pandas as pd\n",
    "import numpy as np\n",
    "import matplotlib.pyplot as plt\n",
    "import seaborn as sns \n",
    "\n",
    "from split_scale import split_data\n"
   ]
  },
  {
   "cell_type": "code",
   "execution_count": 2,
   "metadata": {},
   "outputs": [
    {
     "data": {
      "text/html": [
       "<div>\n",
       "<style scoped>\n",
       "    .dataframe tbody tr th:only-of-type {\n",
       "        vertical-align: middle;\n",
       "    }\n",
       "\n",
       "    .dataframe tbody tr th {\n",
       "        vertical-align: top;\n",
       "    }\n",
       "\n",
       "    .dataframe thead th {\n",
       "        text-align: right;\n",
       "    }\n",
       "</style>\n",
       "<table border=\"1\" class=\"dataframe\">\n",
       "  <thead>\n",
       "    <tr style=\"text-align: right;\">\n",
       "      <th></th>\n",
       "      <th>home_size</th>\n",
       "      <th>bedroomcnt</th>\n",
       "      <th>bathroomcnt</th>\n",
       "      <th>tax_rate</th>\n",
       "      <th>yearbuilt</th>\n",
       "      <th>zip</th>\n",
       "      <th>home_value</th>\n",
       "      <th>bedrm_per_bathrm</th>\n",
       "    </tr>\n",
       "  </thead>\n",
       "  <tbody>\n",
       "    <tr>\n",
       "      <td>6056</td>\n",
       "      <td>1246.0</td>\n",
       "      <td>4.0</td>\n",
       "      <td>2.0</td>\n",
       "      <td>0.013398</td>\n",
       "      <td>1954.0</td>\n",
       "      <td>96490.0</td>\n",
       "      <td>291124.0</td>\n",
       "      <td>2.000000</td>\n",
       "    </tr>\n",
       "    <tr>\n",
       "      <td>8137</td>\n",
       "      <td>1330.0</td>\n",
       "      <td>3.0</td>\n",
       "      <td>2.0</td>\n",
       "      <td>0.012266</td>\n",
       "      <td>1967.0</td>\n",
       "      <td>97007.0</td>\n",
       "      <td>241434.0</td>\n",
       "      <td>1.500000</td>\n",
       "    </tr>\n",
       "    <tr>\n",
       "      <td>1720</td>\n",
       "      <td>1492.0</td>\n",
       "      <td>3.0</td>\n",
       "      <td>2.0</td>\n",
       "      <td>0.012608</td>\n",
       "      <td>1968.0</td>\n",
       "      <td>96107.0</td>\n",
       "      <td>468397.0</td>\n",
       "      <td>1.500000</td>\n",
       "    </tr>\n",
       "    <tr>\n",
       "      <td>11152</td>\n",
       "      <td>1122.0</td>\n",
       "      <td>3.0</td>\n",
       "      <td>2.0</td>\n",
       "      <td>0.011105</td>\n",
       "      <td>1952.0</td>\n",
       "      <td>96437.0</td>\n",
       "      <td>451439.0</td>\n",
       "      <td>1.500000</td>\n",
       "    </tr>\n",
       "    <tr>\n",
       "      <td>7141</td>\n",
       "      <td>1336.0</td>\n",
       "      <td>4.0</td>\n",
       "      <td>1.5</td>\n",
       "      <td>0.011868</td>\n",
       "      <td>1971.0</td>\n",
       "      <td>96203.0</td>\n",
       "      <td>340637.0</td>\n",
       "      <td>2.666667</td>\n",
       "    </tr>\n",
       "  </tbody>\n",
       "</table>\n",
       "</div>"
      ],
      "text/plain": [
       "       home_size  bedroomcnt  bathroomcnt  tax_rate  yearbuilt      zip  \\\n",
       "6056      1246.0         4.0          2.0  0.013398     1954.0  96490.0   \n",
       "8137      1330.0         3.0          2.0  0.012266     1967.0  97007.0   \n",
       "1720      1492.0         3.0          2.0  0.012608     1968.0  96107.0   \n",
       "11152     1122.0         3.0          2.0  0.011105     1952.0  96437.0   \n",
       "7141      1336.0         4.0          1.5  0.011868     1971.0  96203.0   \n",
       "\n",
       "       home_value  bedrm_per_bathrm  \n",
       "6056     291124.0          2.000000  \n",
       "8137     241434.0          1.500000  \n",
       "1720     468397.0          1.500000  \n",
       "11152    451439.0          1.500000  \n",
       "7141     340637.0          2.666667  "
      ]
     },
     "execution_count": 2,
     "metadata": {},
     "output_type": "execute_result"
    }
   ],
   "source": [
    "train, test = split_data()\n",
    "train.head()"
   ]
  },
  {
   "cell_type": "code",
   "execution_count": 3,
   "metadata": {
    "scrolled": false
   },
   "outputs": [
    {
     "data": {
      "text/html": [
       "<div>\n",
       "<style scoped>\n",
       "    .dataframe tbody tr th:only-of-type {\n",
       "        vertical-align: middle;\n",
       "    }\n",
       "\n",
       "    .dataframe tbody tr th {\n",
       "        vertical-align: top;\n",
       "    }\n",
       "\n",
       "    .dataframe thead th {\n",
       "        text-align: right;\n",
       "    }\n",
       "</style>\n",
       "<table border=\"1\" class=\"dataframe\">\n",
       "  <thead>\n",
       "    <tr style=\"text-align: right;\">\n",
       "      <th></th>\n",
       "      <th>home_size</th>\n",
       "      <th>bedroomcnt</th>\n",
       "      <th>bathroomcnt</th>\n",
       "      <th>tax_rate</th>\n",
       "      <th>yearbuilt</th>\n",
       "      <th>zip</th>\n",
       "      <th>home_value</th>\n",
       "      <th>bedrm_per_bathrm</th>\n",
       "    </tr>\n",
       "  </thead>\n",
       "  <tbody>\n",
       "    <tr>\n",
       "      <td>count</td>\n",
       "      <td>9892.000000</td>\n",
       "      <td>9892.000000</td>\n",
       "      <td>9892.000000</td>\n",
       "      <td>9892.000000</td>\n",
       "      <td>9892.000000</td>\n",
       "      <td>9892.000000</td>\n",
       "      <td>9892.000000</td>\n",
       "      <td>9892.000000</td>\n",
       "    </tr>\n",
       "    <tr>\n",
       "      <td>mean</td>\n",
       "      <td>1582.939446</td>\n",
       "      <td>3.101901</td>\n",
       "      <td>1.959209</td>\n",
       "      <td>0.013134</td>\n",
       "      <td>1955.286292</td>\n",
       "      <td>96487.283562</td>\n",
       "      <td>320002.444602</td>\n",
       "      <td>1.717812</td>\n",
       "    </tr>\n",
       "    <tr>\n",
       "      <td>std</td>\n",
       "      <td>534.466725</td>\n",
       "      <td>0.802085</td>\n",
       "      <td>0.672690</td>\n",
       "      <td>0.001663</td>\n",
       "      <td>20.074029</td>\n",
       "      <td>4328.195589</td>\n",
       "      <td>190168.800225</td>\n",
       "      <td>0.577417</td>\n",
       "    </tr>\n",
       "    <tr>\n",
       "      <td>min</td>\n",
       "      <td>320.000000</td>\n",
       "      <td>0.000000</td>\n",
       "      <td>1.000000</td>\n",
       "      <td>0.010686</td>\n",
       "      <td>1880.000000</td>\n",
       "      <td>95982.000000</td>\n",
       "      <td>12788.000000</td>\n",
       "      <td>0.000000</td>\n",
       "    </tr>\n",
       "    <tr>\n",
       "      <td>25%</td>\n",
       "      <td>1200.000000</td>\n",
       "      <td>3.000000</td>\n",
       "      <td>1.500000</td>\n",
       "      <td>0.012107</td>\n",
       "      <td>1947.000000</td>\n",
       "      <td>96163.000000</td>\n",
       "      <td>175099.000000</td>\n",
       "      <td>1.333333</td>\n",
       "    </tr>\n",
       "    <tr>\n",
       "      <td>50%</td>\n",
       "      <td>1493.000000</td>\n",
       "      <td>3.000000</td>\n",
       "      <td>2.000000</td>\n",
       "      <td>0.012591</td>\n",
       "      <td>1954.000000</td>\n",
       "      <td>96326.000000</td>\n",
       "      <td>286182.500000</td>\n",
       "      <td>1.500000</td>\n",
       "    </tr>\n",
       "    <tr>\n",
       "      <td>75%</td>\n",
       "      <td>1889.000000</td>\n",
       "      <td>4.000000</td>\n",
       "      <td>2.000000</td>\n",
       "      <td>0.013743</td>\n",
       "      <td>1965.000000</td>\n",
       "      <td>96506.000000</td>\n",
       "      <td>436798.500000</td>\n",
       "      <td>2.000000</td>\n",
       "    </tr>\n",
       "    <tr>\n",
       "      <td>max</td>\n",
       "      <td>3538.000000</td>\n",
       "      <td>5.000000</td>\n",
       "      <td>3.000000</td>\n",
       "      <td>0.018987</td>\n",
       "      <td>2015.000000</td>\n",
       "      <td>399675.000000</td>\n",
       "      <td>876160.000000</td>\n",
       "      <td>5.000000</td>\n",
       "    </tr>\n",
       "  </tbody>\n",
       "</table>\n",
       "</div>"
      ],
      "text/plain": [
       "         home_size   bedroomcnt  bathroomcnt     tax_rate    yearbuilt  \\\n",
       "count  9892.000000  9892.000000  9892.000000  9892.000000  9892.000000   \n",
       "mean   1582.939446     3.101901     1.959209     0.013134  1955.286292   \n",
       "std     534.466725     0.802085     0.672690     0.001663    20.074029   \n",
       "min     320.000000     0.000000     1.000000     0.010686  1880.000000   \n",
       "25%    1200.000000     3.000000     1.500000     0.012107  1947.000000   \n",
       "50%    1493.000000     3.000000     2.000000     0.012591  1954.000000   \n",
       "75%    1889.000000     4.000000     2.000000     0.013743  1965.000000   \n",
       "max    3538.000000     5.000000     3.000000     0.018987  2015.000000   \n",
       "\n",
       "                 zip     home_value  bedrm_per_bathrm  \n",
       "count    9892.000000    9892.000000       9892.000000  \n",
       "mean    96487.283562  320002.444602          1.717812  \n",
       "std      4328.195589  190168.800225          0.577417  \n",
       "min     95982.000000   12788.000000          0.000000  \n",
       "25%     96163.000000  175099.000000          1.333333  \n",
       "50%     96326.000000  286182.500000          1.500000  \n",
       "75%     96506.000000  436798.500000          2.000000  \n",
       "max    399675.000000  876160.000000          5.000000  "
      ]
     },
     "execution_count": 3,
     "metadata": {},
     "output_type": "execute_result"
    }
   ],
   "source": [
    "train.describe()"
   ]
  },
  {
   "cell_type": "code",
   "execution_count": 4,
   "metadata": {},
   "outputs": [
    {
     "data": {
      "text/plain": [
       "96193.0    147\n",
       "97319.0    110\n",
       "96368.0    108\n",
       "96361.0    103\n",
       "96242.0    102\n",
       "          ... \n",
       "96979.0      1\n",
       "96954.0      1\n",
       "96947.0      1\n",
       "96207.0      1\n",
       "96985.0      1\n",
       "Name: zip, Length: 359, dtype: int64"
      ]
     },
     "execution_count": 4,
     "metadata": {},
     "output_type": "execute_result"
    }
   ],
   "source": [
    "train.zip.value_counts()"
   ]
  },
  {
   "cell_type": "code",
   "execution_count": 23,
   "metadata": {},
   "outputs": [
    {
     "data": {
      "text/plain": [
       "0.012248    1\n",
       "0.012723    1\n",
       "0.013775    1\n",
       "0.013248    1\n",
       "0.012510    1\n",
       "           ..\n",
       "0.012224    1\n",
       "0.012049    1\n",
       "0.011557    1\n",
       "0.012111    1\n",
       "0.012531    1\n",
       "Name: tax_rate, Length: 9892, dtype: int64"
      ]
     },
     "execution_count": 23,
     "metadata": {},
     "output_type": "execute_result"
    }
   ],
   "source": [
    "train.tax_rate."
   ]
  },
  {
   "cell_type": "code",
   "execution_count": 6,
   "metadata": {},
   "outputs": [
    {
     "data": {
      "text/plain": [
       "<seaborn.axisgrid.PairGrid at 0x1a2266c390>"
      ]
     },
     "execution_count": 6,
     "metadata": {},
     "output_type": "execute_result"
    },
    {
     "data": {
      "image/png": "[encoded data removed]",
      "text/plain": [
       "<Figure size 1080x180 with 6 Axes>"
      ]
     },
     "metadata": {
      "needs_background": "light"
     },
     "output_type": "display_data"
    }
   ],
   "source": [
    "X = ['home_size', 'bedroomcnt', 'bathroomcnt', 'tax_rate', 'yearbuilt', 'bedrm_per_bathrm']\n",
    "sns.pairplot(train, x_vars = X , y_vars='home_size')"
   ]
  },
  {
   "cell_type": "code",
   "execution_count": 7,
   "metadata": {},
   "outputs": [
    {
     "data": {
      "text/plain": [
       "<bound method IndexOpsMixin.value_counts of 6056     0.013398\n",
       "8137     0.012266\n",
       "1720     0.012608\n",
       "11152    0.011105\n",
       "7141     0.011868\n",
       "           ...   \n",
       "6387     0.013676\n",
       "15954    0.012538\n",
       "1570     0.016127\n",
       "15207    0.016383\n",
       "4493     0.012445\n",
       "Name: tax_rate, Length: 9892, dtype: float64>"
      ]
     },
     "execution_count": 7,
     "metadata": {},
     "output_type": "execute_result"
    }
   ],
   "source": [
    "train.tax_rate.value_counts"
   ]
  },
  {
   "cell_type": "code",
   "execution_count": 8,
   "metadata": {},
   "outputs": [
    {
     "data": {
      "text/plain": [
       "0.010686343879510764"
      ]
     },
     "execution_count": 8,
     "metadata": {},
     "output_type": "execute_result"
    }
   ],
   "source": [
    "train.tax_rate.min()"
   ]
  },
  {
   "cell_type": "code",
   "execution_count": 9,
   "metadata": {
    "scrolled": true
   },
   "outputs": [
    {
     "data": {
      "text/plain": [
       "<matplotlib.axes._subplots.AxesSubplot at 0x1a23991ad0>"
      ]
     },
     "execution_count": 9,
     "metadata": {},
     "output_type": "execute_result"
    },
    {
     "data": {
      "image/png": "[encoded data removed]",
      "text/plain": [
       "<Figure size 432x288 with 1 Axes>"
      ]
     },
     "metadata": {
      "needs_background": "light"
     },
     "output_type": "display_data"
    }
   ],
   "source": [
    "\n",
    "df = train[(train.bathroomcnt == 2)&(train.zip == 96193 )]\n",
    "df.plot.scatter(x='home_size', y='home_value')\n",
    "#plt.xlim(left = .01, right = .02)"
   ]
  },
  {
   "cell_type": "code",
   "execution_count": 10,
   "metadata": {},
   "outputs": [
    {
     "data": {
      "text/html": [
       "<div>\n",
       "<style scoped>\n",
       "    .dataframe tbody tr th:only-of-type {\n",
       "        vertical-align: middle;\n",
       "    }\n",
       "\n",
       "    .dataframe tbody tr th {\n",
       "        vertical-align: top;\n",
       "    }\n",
       "\n",
       "    .dataframe thead th {\n",
       "        text-align: right;\n",
       "    }\n",
       "</style>\n",
       "<table border=\"1\" class=\"dataframe\">\n",
       "  <thead>\n",
       "    <tr style=\"text-align: right;\">\n",
       "      <th></th>\n",
       "      <th>home_value</th>\n",
       "    </tr>\n",
       "  </thead>\n",
       "  <tbody>\n",
       "    <tr>\n",
       "      <td>zip</td>\n",
       "      <td>0.015069</td>\n",
       "    </tr>\n",
       "    <tr>\n",
       "      <td>bedroomcnt</td>\n",
       "      <td>0.161572</td>\n",
       "    </tr>\n",
       "    <tr>\n",
       "      <td>bedrm_per_bathrm</td>\n",
       "      <td>0.167319</td>\n",
       "    </tr>\n",
       "    <tr>\n",
       "      <td>yearbuilt</td>\n",
       "      <td>0.170062</td>\n",
       "    </tr>\n",
       "    <tr>\n",
       "      <td>bathroomcnt</td>\n",
       "      <td>0.275261</td>\n",
       "    </tr>\n",
       "    <tr>\n",
       "      <td>home_size</td>\n",
       "      <td>0.355328</td>\n",
       "    </tr>\n",
       "    <tr>\n",
       "      <td>tax_rate</td>\n",
       "      <td>0.536438</td>\n",
       "    </tr>\n",
       "    <tr>\n",
       "      <td>home_value</td>\n",
       "      <td>1.000000</td>\n",
       "    </tr>\n",
       "  </tbody>\n",
       "</table>\n",
       "</div>"
      ],
      "text/plain": [
       "                  home_value\n",
       "zip                 0.015069\n",
       "bedroomcnt          0.161572\n",
       "bedrm_per_bathrm    0.167319\n",
       "yearbuilt           0.170062\n",
       "bathroomcnt         0.275261\n",
       "home_size           0.355328\n",
       "tax_rate            0.536438\n",
       "home_value          1.000000"
      ]
     },
     "execution_count": 10,
     "metadata": {},
     "output_type": "execute_result"
    }
   ],
   "source": [
    "train.corr()[['home_value']].abs().sort_values(by = 'home_value')"
   ]
  },
  {
   "cell_type": "code",
   "execution_count": 11,
   "metadata": {
    "scrolled": false
   },
   "outputs": [
    {
     "data": {
      "text/plain": [
       "<matplotlib.axes._subplots.AxesSubplot at 0x1a22df4e10>"
      ]
     },
     "execution_count": 11,
     "metadata": {},
     "output_type": "execute_result"
    },
    {
     "data": {
      "image/png": "[encoded data removed]",
      "text/plain": [
       "<Figure size 432x288 with 2 Axes>"
      ]
     },
     "metadata": {
      "needs_background": "light"
     },
     "output_type": "display_data"
    }
   ],
   "source": [
    "sns.heatmap(train.corr())"
   ]
  },
  {
   "cell_type": "code",
   "execution_count": null,
   "metadata": {},
   "outputs": [],
   "source": []
  },
  {
   "cell_type": "markdown",
   "metadata": {},
   "source": [
    "## t_test"
   ]
  },
  {
   "cell_type": "markdown",
   "metadata": {},
   "source": [
    "#### Question: Are the home_values of the 3 bedrooms  higher than the ones with only 2 bedrooms\n",
    "- $H_0$: There is no difference between those two \n",
    "- $H_0$: There is a differnce \n",
    "\n",
    "Hypothesis test: Two_sample_t_test  \n",
    "$a$ = 0.05"
   ]
  },
  {
   "cell_type": "code",
   "execution_count": 12,
   "metadata": {},
   "outputs": [],
   "source": [
    "from scipy import stats"
   ]
  },
  {
   "cell_type": "code",
   "execution_count": 13,
   "metadata": {},
   "outputs": [],
   "source": [
    "x1 = train[train.bedroomcnt == 3].home_value\n",
    "x2 = train[train.bedroomcnt == 2].home_value"
   ]
  },
  {
   "cell_type": "code",
   "execution_count": 14,
   "metadata": {},
   "outputs": [
    {
     "data": {
      "text/plain": [
       "3.6868217726751394e-09"
      ]
     },
     "execution_count": 14,
     "metadata": {},
     "output_type": "execute_result"
    }
   ],
   "source": [
    "t, p = stats.ttest_ind(x1, x2)\n",
    "p "
   ]
  },
  {
   "cell_type": "markdown",
   "metadata": {},
   "source": [
    "Because p is less than a, we can conclude that there is a difference between home with 3 bedrooms and home with 2 bedrooms"
   ]
  },
  {
   "cell_type": "markdown",
   "metadata": {},
   "source": [
    "## Correlation Test"
   ]
  },
  {
   "cell_type": "markdown",
   "metadata": {},
   "source": [
    "1: Question:Does **tax rate** and **home_value** have a linear correlation  \n",
    "- $H_0$: They don't   \n",
    "- $H_0$: They do  \n",
    "    \n",
    "Hypothesis Test: Pearson's Correlation Coefficient"
   ]
  },
  {
   "cell_type": "code",
   "execution_count": 15,
   "metadata": {},
   "outputs": [],
   "source": [
    "x = train.tax_rate\n",
    "y = train.home_value"
   ]
  },
  {
   "cell_type": "code",
   "execution_count": 16,
   "metadata": {},
   "outputs": [
    {
     "data": {
      "text/plain": [
       "(-0.5364380831077331, 0.0)"
      ]
     },
     "execution_count": 16,
     "metadata": {},
     "output_type": "execute_result"
    }
   ],
   "source": [
    "corr, p = stats.pearsonr(x, y)\n",
    "corr, p"
   ]
  },
  {
   "cell_type": "markdown",
   "metadata": {},
   "source": [
    "2: Question:Does **home_size** and **home_value** have a linear correlation\n",
    "- $H_0$: They don't \n",
    "- $H_0$: They do  \n",
    "    \n",
    "Hypothesis Test: Pearson's Correlation Coefficient"
   ]
  },
  {
   "cell_type": "code",
   "execution_count": 17,
   "metadata": {},
   "outputs": [],
   "source": [
    "x = train.home_size\n",
    "y = train.home_value"
   ]
  },
  {
   "cell_type": "code",
   "execution_count": 18,
   "metadata": {
    "scrolled": true
   },
   "outputs": [
    {
     "data": {
      "text/plain": [
       "(0.35532763659073924, 3.1192420924426693e-292)"
      ]
     },
     "execution_count": 18,
     "metadata": {},
     "output_type": "execute_result"
    }
   ],
   "source": [
    "corr, p = stats.pearsonr(x, y)\n",
    "corr, p"
   ]
  },
  {
   "cell_type": "markdown",
   "metadata": {},
   "source": [
    "3: Question:Does **bedrm_per_bathrm** and **home_value** have a linear correlation\n",
    "- $H_0$ : They don't \n",
    "- $H_0$ : They do  \n",
    "    \n",
    "Hypothesis Test: Pearson's Correlation Coefficient"
   ]
  },
  {
   "cell_type": "code",
   "execution_count": 19,
   "metadata": {
    "scrolled": true
   },
   "outputs": [
    {
     "data": {
      "text/plain": [
       "(-0.16731926750047468, 4.993121397014596e-63)"
      ]
     },
     "execution_count": 19,
     "metadata": {},
     "output_type": "execute_result"
    }
   ],
   "source": [
    "x = train.bedrm_per_bathrm\n",
    "y = train.home_value\n",
    "corr, p = stats.pearsonr(x, y)\n",
    "corr, p"
   ]
  },
  {
   "cell_type": "markdown",
   "metadata": {},
   "source": [
    "4: Question:Does **yearbuilt** and **home_value** have a linear correlation\n",
    "    \n",
    "    - $H_0$: They don't \n",
    "    - $H_0$: They do  \n",
    "    \n",
    "Hypothesis Test: Pearson's Correlation Coefficient"
   ]
  },
  {
   "cell_type": "code",
   "execution_count": 20,
   "metadata": {},
   "outputs": [
    {
     "data": {
      "text/plain": [
       "(0.17006159786173963, 4.427831227277393e-65)"
      ]
     },
     "execution_count": 20,
     "metadata": {},
     "output_type": "execute_result"
    }
   ],
   "source": [
    "x = train.yearbuilt\n",
    "y = train.home_value\n",
    "corr, p = stats.pearsonr(x, y)\n",
    "corr, p"
   ]
  },
  {
   "cell_type": "markdown",
   "metadata": {},
   "source": [
    "5.: Question:Does **home_size** and **bathroomcnt** have a linear correlation\n",
    "- $H_0$: They don't \n",
    "- $H_0$: They do  \n",
    "    \n",
    "Hypothesis Test: Pearson's Correlation Coefficient"
   ]
  },
  {
   "cell_type": "code",
   "execution_count": 21,
   "metadata": {},
   "outputs": [
    {
     "data": {
      "text/plain": [
       "(0.742273188325768, 0.0)"
      ]
     },
     "execution_count": 21,
     "metadata": {},
     "output_type": "execute_result"
    }
   ],
   "source": [
    "x = train.bathroomcnt\n",
    "y = train.home_size\n",
    "corr, p = stats.pearsonr(x, y)\n",
    "corr, p"
   ]
  },
  {
   "cell_type": "markdown",
   "metadata": {},
   "source": [
    "6.: Question:Does **bedroomcnt** and **bathroomcnt** have a linear correlation\n",
    "- $H_0$: They don't \n",
    "- $H_0$: They do  \n",
    "    \n",
    "Hypothesis Test: Pearson's Correlation Coefficient"
   ]
  },
  {
   "cell_type": "code",
   "execution_count": 22,
   "metadata": {},
   "outputs": [
    {
     "data": {
      "text/plain": [
       "(0.5841806652969372, 0.0)"
      ]
     },
     "execution_count": 22,
     "metadata": {},
     "output_type": "execute_result"
    }
   ],
   "source": [
    "x = train.bathroomcnt\n",
    "y = train.bedroomcnt\n",
    "corr, p = stats.pearsonr(x, y)\n",
    "corr, p"
   ]
  },
  {
   "cell_type": "markdown",
   "metadata": {},
   "source": [
    "## Summary"
   ]
  },
  {
   "cell_type": "markdown",
   "metadata": {},
   "source": [
    "- Home_size, bedroomcnt and bathroomcnt are all strongly correlated, So when doing the feature selection, It is preferred to use rfe method.\n",
    "- It is a kind of domin knowlege that the higher the propert tax, ther better the neigbourhood, so the price of a home is higher. And the relation test show the have absolute linear relaitonship.\n",
    "- Even though it is pretty common to think the age of a house is positvely related to the home price, but some how the data did not give us very strong correlations."
   ]
  },
  {
   "cell_type": "code",
   "execution_count": null,
   "metadata": {},
   "outputs": [],
   "source": []
  }
 ],
 "metadata": {
  "kernelspec": {
   "display_name": "Python 3",
   "language": "python",
   "name": "python3"
  },
  "language_info": {
   "codemirror_mode": {
    "name": "ipython",
    "version": 3
   },
   "file_extension": ".py",
   "mimetype": "text/x-python",
   "name": "python",
   "nbconvert_exporter": "python",
   "pygments_lexer": "ipython3",
   "version": "3.7.4"
  }
 },
 "nbformat": 4,
 "nbformat_minor": 2
}
