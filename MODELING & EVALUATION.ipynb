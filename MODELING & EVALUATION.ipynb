{
 "cells": [
  {
   "cell_type": "markdown",
   "metadata": {},
   "source": [
    "# MODELING & EVALUATION\n",
    "- Goal: develop a **regression model** that performs better than a **baseline**.\n",
    "\n",
    "- You must **evaluate a baseline model**, and show how the model you end up with performs better than that.\n",
    "\n",
    "- `model.py`: will have the functions to fit, predict and evaluate the model\n",
    "\n",
    "- Your notebook will contain **various algorithms** and/or hyperparameters tried, along with the evaluation code and results, before settling on the final algorithm.\n",
    "\n",
    "- Be sure and evaluate your model using the **standard techniques**: plotting the residuals, computing the evaluation metric (SSE, RMSE, and/or MSE), comparing to baseline, plotting y by y_hat"
   ]
  },
  {
   "cell_type": "code",
   "execution_count": 1,
   "metadata": {},
   "outputs": [],
   "source": [
    "import pandas as pd\n",
    "import numpy as np\n",
    "import matplotlib.pyplot as plt\n",
    "import seaborn as sns\n",
    "from sklearn.metrics import mean_squared_error, explained_variance_score\n",
    "from sklearn.linear_model import LinearRegression\n",
    "from sklearn.feature_selection import RFE\n",
    "\n",
    "from split_scale import split_scale\n",
    "from feature_selection import rfe, k_best\n",
    "\n",
    "import warnings\n",
    "warnings.filterwarnings(\"ignore\")"
   ]
  },
  {
   "cell_type": "markdown",
   "metadata": {},
   "source": [
    "## 1. Evaluate SelectKBest Algorithm"
   ]
  },
  {
   "cell_type": "markdown",
   "metadata": {},
   "source": [
    "### 1.1 split data and apply Algorithm"
   ]
  },
  {
   "cell_type": "code",
   "execution_count": 2,
   "metadata": {
    "scrolled": true
   },
   "outputs": [],
   "source": [
    "train, test, scaler = split_scale()\n"
   ]
  },
  {
   "cell_type": "code",
   "execution_count": 3,
   "metadata": {
    "scrolled": false
   },
   "outputs": [
    {
     "data": {
      "text/html": [
       "<div>\n",
       "<style scoped>\n",
       "    .dataframe tbody tr th:only-of-type {\n",
       "        vertical-align: middle;\n",
       "    }\n",
       "\n",
       "    .dataframe tbody tr th {\n",
       "        vertical-align: top;\n",
       "    }\n",
       "\n",
       "    .dataframe thead th {\n",
       "        text-align: right;\n",
       "    }\n",
       "</style>\n",
       "<table border=\"1\" class=\"dataframe\">\n",
       "  <thead>\n",
       "    <tr style=\"text-align: right;\">\n",
       "      <th></th>\n",
       "      <th>home_size</th>\n",
       "      <th>bathroomcnt</th>\n",
       "      <th>tax_rate</th>\n",
       "      <th>home_value</th>\n",
       "    </tr>\n",
       "  </thead>\n",
       "  <tbody>\n",
       "    <tr>\n",
       "      <td>14140</td>\n",
       "      <td>0.361642</td>\n",
       "      <td>0.0</td>\n",
       "      <td>0.066475</td>\n",
       "      <td>0.421163</td>\n",
       "    </tr>\n",
       "    <tr>\n",
       "      <td>12285</td>\n",
       "      <td>0.225008</td>\n",
       "      <td>0.0</td>\n",
       "      <td>0.397378</td>\n",
       "      <td>0.302009</td>\n",
       "    </tr>\n",
       "    <tr>\n",
       "      <td>13357</td>\n",
       "      <td>0.347853</td>\n",
       "      <td>0.5</td>\n",
       "      <td>0.197533</td>\n",
       "      <td>0.324614</td>\n",
       "    </tr>\n",
       "    <tr>\n",
       "      <td>14130</td>\n",
       "      <td>0.282357</td>\n",
       "      <td>0.5</td>\n",
       "      <td>0.089810</td>\n",
       "      <td>0.228193</td>\n",
       "    </tr>\n",
       "    <tr>\n",
       "      <td>1187</td>\n",
       "      <td>0.524914</td>\n",
       "      <td>1.0</td>\n",
       "      <td>0.668349</td>\n",
       "      <td>0.248124</td>\n",
       "    </tr>\n",
       "  </tbody>\n",
       "</table>\n",
       "</div>"
      ],
      "text/plain": [
       "       home_size  bathroomcnt  tax_rate  home_value\n",
       "14140   0.361642          0.0  0.066475    0.421163\n",
       "12285   0.225008          0.0  0.397378    0.302009\n",
       "13357   0.347853          0.5  0.197533    0.324614\n",
       "14130   0.282357          0.5  0.089810    0.228193\n",
       "1187    0.524914          1.0  0.668349    0.248124"
      ]
     },
     "execution_count": 3,
     "metadata": {},
     "output_type": "execute_result"
    }
   ],
   "source": [
    "train, selector = k_best(train, 3)\n",
    "train.head()"
   ]
  },
  {
   "cell_type": "code",
   "execution_count": 4,
   "metadata": {},
   "outputs": [],
   "source": [
    "X = train.drop(columns = 'home_value')\n",
    "y = train[['home_value']]"
   ]
  },
  {
   "cell_type": "markdown",
   "metadata": {},
   "source": [
    "### 1.2 Build Linear Model"
   ]
  },
  {
   "cell_type": "code",
   "execution_count": 5,
   "metadata": {},
   "outputs": [
    {
     "data": {
      "text/plain": [
       "LinearRegression(copy_X=True, fit_intercept=True, n_jobs=None, normalize=False)"
      ]
     },
     "execution_count": 5,
     "metadata": {},
     "output_type": "execute_result"
    }
   ],
   "source": [
    "lm1 = LinearRegression()\n",
    "lm1.fit(X, y)"
   ]
  },
  {
   "cell_type": "markdown",
   "metadata": {},
   "source": [
    "### 1.3 Evaluate Model"
   ]
  },
  {
   "cell_type": "code",
   "execution_count": 6,
   "metadata": {},
   "outputs": [],
   "source": [
    "predictions = pd.DataFrame({'actual': train.home_value})\n",
    "predictions['predicted'] = lm1.predict(X)"
   ]
  },
  {
   "cell_type": "code",
   "execution_count": 7,
   "metadata": {},
   "outputs": [
    {
     "data": {
      "text/html": [
       "<div>\n",
       "<style scoped>\n",
       "    .dataframe tbody tr th:only-of-type {\n",
       "        vertical-align: middle;\n",
       "    }\n",
       "\n",
       "    .dataframe tbody tr th {\n",
       "        vertical-align: top;\n",
       "    }\n",
       "\n",
       "    .dataframe thead th {\n",
       "        text-align: right;\n",
       "    }\n",
       "</style>\n",
       "<table border=\"1\" class=\"dataframe\">\n",
       "  <thead>\n",
       "    <tr style=\"text-align: right;\">\n",
       "      <th></th>\n",
       "      <th>actual</th>\n",
       "      <th>predicted</th>\n",
       "    </tr>\n",
       "  </thead>\n",
       "  <tbody>\n",
       "    <tr>\n",
       "      <td>14140</td>\n",
       "      <td>0.421163</td>\n",
       "      <td>0.454006</td>\n",
       "    </tr>\n",
       "    <tr>\n",
       "      <td>12285</td>\n",
       "      <td>0.302009</td>\n",
       "      <td>0.223011</td>\n",
       "    </tr>\n",
       "    <tr>\n",
       "      <td>13357</td>\n",
       "      <td>0.324614</td>\n",
       "      <td>0.392839</td>\n",
       "    </tr>\n",
       "    <tr>\n",
       "      <td>14130</td>\n",
       "      <td>0.228193</td>\n",
       "      <td>0.428937</td>\n",
       "    </tr>\n",
       "    <tr>\n",
       "      <td>1187</td>\n",
       "      <td>0.248124</td>\n",
       "      <td>0.212227</td>\n",
       "    </tr>\n",
       "  </tbody>\n",
       "</table>\n",
       "</div>"
      ],
      "text/plain": [
       "         actual  predicted\n",
       "14140  0.421163   0.454006\n",
       "12285  0.302009   0.223011\n",
       "13357  0.324614   0.392839\n",
       "14130  0.228193   0.428937\n",
       "1187   0.248124   0.212227"
      ]
     },
     "execution_count": 7,
     "metadata": {},
     "output_type": "execute_result"
    }
   ],
   "source": [
    "predictions.head()"
   ]
  },
  {
   "cell_type": "code",
   "execution_count": 8,
   "metadata": {},
   "outputs": [
    {
     "data": {
      "text/plain": [
       "0.17437232291729288"
      ]
     },
     "execution_count": 8,
     "metadata": {},
     "output_type": "execute_result"
    }
   ],
   "source": [
    "RMSE_lm1 = np.sqrt(mean_squared_error(predictions.actual, predictions.predicted))\n",
    "RMSE_lm1"
   ]
  },
  {
   "cell_type": "code",
   "execution_count": 9,
   "metadata": {},
   "outputs": [
    {
     "data": {
      "text/plain": [
       "0.3826292186799015"
      ]
     },
     "execution_count": 9,
     "metadata": {},
     "output_type": "execute_result"
    }
   ],
   "source": [
    "Kbest_r2 = lm1.score(X, y)\n",
    "Kbest_r2"
   ]
  },
  {
   "cell_type": "markdown",
   "metadata": {},
   "source": [
    "### 1.4 Visualization"
   ]
  },
  {
   "cell_type": "code",
   "execution_count": 10,
   "metadata": {},
   "outputs": [
    {
     "data": {
      "text/plain": [
       "Text(0.5, 1.0, 'Actual vs predicted')"
      ]
     },
     "execution_count": 10,
     "metadata": {},
     "output_type": "execute_result"
    },
    {
     "data": {
      "image/png": "[encoded data removed]",
      "text/plain": [
       "<Figure size 432x288 with 1 Axes>"
      ]
     },
     "metadata": {
      "needs_background": "light"
     },
     "output_type": "display_data"
    }
   ],
   "source": [
    "plt.scatter(predictions.actual, predictions.predicted)\n",
    "plt.ylabel('predicted $\\hat{y}$')\n",
    "plt.xlabel('actual value $y$')\n",
    "plt.title('Actual vs predicted')"
   ]
  },
  {
   "cell_type": "code",
   "execution_count": 11,
   "metadata": {
    "scrolled": true
   },
   "outputs": [
    {
     "data": {
      "text/plain": [
       "Text(0.5, 1.0, 'Actual vs Residual')"
      ]
     },
     "execution_count": 11,
     "metadata": {},
     "output_type": "execute_result"
    },
    {
     "data": {
      "image/png": "[encoded data removed]",
      "text/plain": [
       "<Figure size 432x288 with 1 Axes>"
      ]
     },
     "metadata": {
      "needs_background": "light"
     },
     "output_type": "display_data"
    }
   ],
   "source": [
    "residuals = predictions.actual - predictions.predicted\n",
    "plt.hlines(0, predictions.actual.min(), predictions.actual.max(), ls=':')\n",
    "plt.scatter(predictions.actual, residuals)\n",
    "plt.ylabel('residual ($y - \\hat{y}$)')\n",
    "plt.xlabel('actual value ($y$)')\n",
    "plt.title('Actual vs Residual')"
   ]
  },
  {
   "cell_type": "markdown",
   "metadata": {},
   "source": [
    "### 1.5 Eveluate on Test"
   ]
  },
  {
   "cell_type": "code",
   "execution_count": 12,
   "metadata": {},
   "outputs": [],
   "source": [
    "X_test = test.drop(columns = 'home_value')\n",
    "y_test = test[['home_value']]"
   ]
  },
  {
   "cell_type": "code",
   "execution_count": 13,
   "metadata": {
    "scrolled": true
   },
   "outputs": [],
   "source": [
    "X_test_rfe = selector.transform(X_test)\n"
   ]
  },
  {
   "cell_type": "code",
   "execution_count": 14,
   "metadata": {},
   "outputs": [],
   "source": [
    "y_test_predictions = lm1.predict(X_test_rfe)\n",
    "RMSE_lm1_t = np.sqrt(mean_squared_error(y_test, y_test_predictions))\n"
   ]
  },
  {
   "cell_type": "markdown",
   "metadata": {},
   "source": [
    "## 2. Evaluate RFE Algorithm"
   ]
  },
  {
   "cell_type": "markdown",
   "metadata": {},
   "source": [
    "### 2.1 Split data and apply algorithm"
   ]
  },
  {
   "cell_type": "code",
   "execution_count": 15,
   "metadata": {
    "scrolled": true
   },
   "outputs": [
    {
     "data": {
      "text/html": [
       "<div>\n",
       "<style scoped>\n",
       "    .dataframe tbody tr th:only-of-type {\n",
       "        vertical-align: middle;\n",
       "    }\n",
       "\n",
       "    .dataframe tbody tr th {\n",
       "        vertical-align: top;\n",
       "    }\n",
       "\n",
       "    .dataframe thead th {\n",
       "        text-align: right;\n",
       "    }\n",
       "</style>\n",
       "<table border=\"1\" class=\"dataframe\">\n",
       "  <thead>\n",
       "    <tr style=\"text-align: right;\">\n",
       "      <th></th>\n",
       "      <th>home_size</th>\n",
       "      <th>tax_rate</th>\n",
       "      <th>yearbuilt</th>\n",
       "      <th>home_value</th>\n",
       "    </tr>\n",
       "  </thead>\n",
       "  <tbody>\n",
       "    <tr>\n",
       "      <td>14140</td>\n",
       "      <td>0.361642</td>\n",
       "      <td>0.066475</td>\n",
       "      <td>0.496296</td>\n",
       "      <td>0.421163</td>\n",
       "    </tr>\n",
       "    <tr>\n",
       "      <td>12285</td>\n",
       "      <td>0.225008</td>\n",
       "      <td>0.397378</td>\n",
       "      <td>0.496296</td>\n",
       "      <td>0.302009</td>\n",
       "    </tr>\n",
       "    <tr>\n",
       "      <td>13357</td>\n",
       "      <td>0.347853</td>\n",
       "      <td>0.197533</td>\n",
       "      <td>0.503704</td>\n",
       "      <td>0.324614</td>\n",
       "    </tr>\n",
       "    <tr>\n",
       "      <td>14130</td>\n",
       "      <td>0.282357</td>\n",
       "      <td>0.089810</td>\n",
       "      <td>0.518519</td>\n",
       "      <td>0.228193</td>\n",
       "    </tr>\n",
       "    <tr>\n",
       "      <td>1187</td>\n",
       "      <td>0.524914</td>\n",
       "      <td>0.668349</td>\n",
       "      <td>0.814815</td>\n",
       "      <td>0.248124</td>\n",
       "    </tr>\n",
       "  </tbody>\n",
       "</table>\n",
       "</div>"
      ],
      "text/plain": [
       "       home_size  tax_rate  yearbuilt  home_value\n",
       "14140   0.361642  0.066475   0.496296    0.421163\n",
       "12285   0.225008  0.397378   0.496296    0.302009\n",
       "13357   0.347853  0.197533   0.503704    0.324614\n",
       "14130   0.282357  0.089810   0.518519    0.228193\n",
       "1187    0.524914  0.668349   0.814815    0.248124"
      ]
     },
     "execution_count": 15,
     "metadata": {},
     "output_type": "execute_result"
    }
   ],
   "source": [
    "train, test, scaler= split_scale()\n",
    "train, selector = rfe(train, 3)\n",
    "train.head()"
   ]
  },
  {
   "cell_type": "code",
   "execution_count": 16,
   "metadata": {},
   "outputs": [],
   "source": [
    "X = train.drop(columns = 'home_value')\n",
    "y = train[['home_value']]"
   ]
  },
  {
   "cell_type": "markdown",
   "metadata": {},
   "source": [
    "### 2.2 Build Linear Model"
   ]
  },
  {
   "cell_type": "code",
   "execution_count": 17,
   "metadata": {},
   "outputs": [
    {
     "data": {
      "text/plain": [
       "LinearRegression(copy_X=True, fit_intercept=True, n_jobs=None, normalize=False)"
      ]
     },
     "execution_count": 17,
     "metadata": {},
     "output_type": "execute_result"
    }
   ],
   "source": [
    "lm2 = LinearRegression()\n",
    "lm2.fit(X, y)"
   ]
  },
  {
   "cell_type": "markdown",
   "metadata": {},
   "source": [
    "### 2.3 Evaluate Model"
   ]
  },
  {
   "cell_type": "code",
   "execution_count": 18,
   "metadata": {},
   "outputs": [
    {
     "data": {
      "text/html": [
       "<div>\n",
       "<style scoped>\n",
       "    .dataframe tbody tr th:only-of-type {\n",
       "        vertical-align: middle;\n",
       "    }\n",
       "\n",
       "    .dataframe tbody tr th {\n",
       "        vertical-align: top;\n",
       "    }\n",
       "\n",
       "    .dataframe thead th {\n",
       "        text-align: right;\n",
       "    }\n",
       "</style>\n",
       "<table border=\"1\" class=\"dataframe\">\n",
       "  <thead>\n",
       "    <tr style=\"text-align: right;\">\n",
       "      <th></th>\n",
       "      <th>actual</th>\n",
       "      <th>predicted</th>\n",
       "    </tr>\n",
       "  </thead>\n",
       "  <tbody>\n",
       "    <tr>\n",
       "      <td>14140</td>\n",
       "      <td>0.421163</td>\n",
       "      <td>0.463794</td>\n",
       "    </tr>\n",
       "    <tr>\n",
       "      <td>12285</td>\n",
       "      <td>0.302009</td>\n",
       "      <td>0.230321</td>\n",
       "    </tr>\n",
       "    <tr>\n",
       "      <td>13357</td>\n",
       "      <td>0.324614</td>\n",
       "      <td>0.386564</td>\n",
       "    </tr>\n",
       "    <tr>\n",
       "      <td>14130</td>\n",
       "      <td>0.228193</td>\n",
       "      <td>0.425017</td>\n",
       "    </tr>\n",
       "    <tr>\n",
       "      <td>1187</td>\n",
       "      <td>0.248124</td>\n",
       "      <td>0.222550</td>\n",
       "    </tr>\n",
       "  </tbody>\n",
       "</table>\n",
       "</div>"
      ],
      "text/plain": [
       "         actual  predicted\n",
       "14140  0.421163   0.463794\n",
       "12285  0.302009   0.230321\n",
       "13357  0.324614   0.386564\n",
       "14130  0.228193   0.425017\n",
       "1187   0.248124   0.222550"
      ]
     },
     "execution_count": 18,
     "metadata": {},
     "output_type": "execute_result"
    }
   ],
   "source": [
    "predictions = pd.DataFrame({'actual': train.home_value})\n",
    "predictions['predicted'] = lm2.predict(X)\n",
    "predictions.head()"
   ]
  },
  {
   "cell_type": "code",
   "execution_count": 19,
   "metadata": {
    "scrolled": true
   },
   "outputs": [
    {
     "data": {
      "text/plain": [
       "0.17385616127242856"
      ]
     },
     "execution_count": 19,
     "metadata": {},
     "output_type": "execute_result"
    }
   ],
   "source": [
    "RMSE_lm2 = np.sqrt(mean_squared_error(predictions.actual, predictions.predicted))\n",
    "RMSE_lm2"
   ]
  },
  {
   "cell_type": "code",
   "execution_count": 20,
   "metadata": {
    "scrolled": true
   },
   "outputs": [
    {
     "data": {
      "text/plain": [
       "0.3862787827088511"
      ]
     },
     "execution_count": 20,
     "metadata": {},
     "output_type": "execute_result"
    }
   ],
   "source": [
    "rfe_r2 = lm2.score(X, y)\n",
    "rfe_r2"
   ]
  },
  {
   "cell_type": "markdown",
   "metadata": {},
   "source": [
    "### 2.4 visualization"
   ]
  },
  {
   "cell_type": "code",
   "execution_count": 21,
   "metadata": {},
   "outputs": [
    {
     "data": {
      "text/plain": [
       "Text(0.5, 1.0, 'Actual vs predicted')"
      ]
     },
     "execution_count": 21,
     "metadata": {},
     "output_type": "execute_result"
    },
    {
     "data": {
      "image/png": "[encoded data removed]",
      "text/plain": [
       "<Figure size 432x288 with 1 Axes>"
      ]
     },
     "metadata": {
      "needs_background": "light"
     },
     "output_type": "display_data"
    }
   ],
   "source": [
    "plt.scatter(predictions.actual, predictions.predicted)\n",
    "plt.ylabel('predicted $\\hat{y}$')\n",
    "plt.xlabel('actual value $y$')\n",
    "plt.title('Actual vs predicted')"
   ]
  },
  {
   "cell_type": "code",
   "execution_count": 22,
   "metadata": {
    "scrolled": true
   },
   "outputs": [
    {
     "data": {
      "text/plain": [
       "Text(0.5, 1.0, 'Actual vs Residual')"
      ]
     },
     "execution_count": 22,
     "metadata": {},
     "output_type": "execute_result"
    },
    {
     "data": {
      "image/png": "[encoded data removed]",
      "text/plain": [
       "<Figure size 432x288 with 1 Axes>"
      ]
     },
     "metadata": {
      "needs_background": "light"
     },
     "output_type": "display_data"
    }
   ],
   "source": [
    "residuals = predictions.actual - predictions.predicted\n",
    "plt.hlines(0, predictions.actual.min(), predictions.actual.max(), ls=':')\n",
    "plt.scatter(predictions.actual, residuals)\n",
    "plt.ylabel('residual ($y - \\hat{y}$)')\n",
    "plt.xlabel('actual value ($y$)')\n",
    "plt.title('Actual vs Residual')"
   ]
  },
  {
   "cell_type": "markdown",
   "metadata": {},
   "source": [
    "### 2.5 apply the model to test set and evaluate its performance\n"
   ]
  },
  {
   "cell_type": "code",
   "execution_count": 23,
   "metadata": {},
   "outputs": [],
   "source": [
    "X_test = test.drop(columns = 'home_value')\n",
    "y_test = test[['home_value']]"
   ]
  },
  {
   "cell_type": "code",
   "execution_count": 24,
   "metadata": {},
   "outputs": [],
   "source": [
    "X_test_rfe = selector.transform(X_test)\n",
    "y_test_predictions = lm2.predict(X_test_rfe)\n",
    "RMSE_lm2_t = np.sqrt(mean_squared_error(y_test, y_test_predictions))"
   ]
  },
  {
   "cell_type": "markdown",
   "metadata": {},
   "source": [
    "## 3. Baseline model"
   ]
  },
  {
   "cell_type": "code",
   "execution_count": 25,
   "metadata": {},
   "outputs": [
    {
     "data": {
      "text/html": [
       "<div>\n",
       "<style scoped>\n",
       "    .dataframe tbody tr th:only-of-type {\n",
       "        vertical-align: middle;\n",
       "    }\n",
       "\n",
       "    .dataframe tbody tr th {\n",
       "        vertical-align: top;\n",
       "    }\n",
       "\n",
       "    .dataframe thead th {\n",
       "        text-align: right;\n",
       "    }\n",
       "</style>\n",
       "<table border=\"1\" class=\"dataframe\">\n",
       "  <thead>\n",
       "    <tr style=\"text-align: right;\">\n",
       "      <th></th>\n",
       "      <th>actual</th>\n",
       "      <th>baseline</th>\n",
       "    </tr>\n",
       "  </thead>\n",
       "  <tbody>\n",
       "    <tr>\n",
       "      <td>14140</td>\n",
       "      <td>0.421163</td>\n",
       "      <td>0.35538</td>\n",
       "    </tr>\n",
       "    <tr>\n",
       "      <td>12285</td>\n",
       "      <td>0.302009</td>\n",
       "      <td>0.35538</td>\n",
       "    </tr>\n",
       "    <tr>\n",
       "      <td>13357</td>\n",
       "      <td>0.324614</td>\n",
       "      <td>0.35538</td>\n",
       "    </tr>\n",
       "    <tr>\n",
       "      <td>14130</td>\n",
       "      <td>0.228193</td>\n",
       "      <td>0.35538</td>\n",
       "    </tr>\n",
       "    <tr>\n",
       "      <td>1187</td>\n",
       "      <td>0.248124</td>\n",
       "      <td>0.35538</td>\n",
       "    </tr>\n",
       "  </tbody>\n",
       "</table>\n",
       "</div>"
      ],
      "text/plain": [
       "         actual  baseline\n",
       "14140  0.421163   0.35538\n",
       "12285  0.302009   0.35538\n",
       "13357  0.324614   0.35538\n",
       "14130  0.228193   0.35538\n",
       "1187   0.248124   0.35538"
      ]
     },
     "execution_count": 25,
     "metadata": {},
     "output_type": "execute_result"
    }
   ],
   "source": [
    "predictions = pd.DataFrame({'actual': train.home_value})\n",
    "predictions['baseline']=train.home_value.mean()\n",
    "predictions.head()"
   ]
  },
  {
   "cell_type": "code",
   "execution_count": 26,
   "metadata": {},
   "outputs": [
    {
     "data": {
      "text/plain": [
       "0.22192412556326835"
      ]
     },
     "execution_count": 26,
     "metadata": {},
     "output_type": "execute_result"
    }
   ],
   "source": [
    "RMSE_bl = np.sqrt(mean_squared_error(predictions.actual, predictions.baseline))\n",
    "RMSE_bl"
   ]
  },
  {
   "cell_type": "code",
   "execution_count": 30,
   "metadata": {},
   "outputs": [
    {
     "data": {
      "text/plain": [
       "0.21454587704066816"
      ]
     },
     "execution_count": 30,
     "metadata": {},
     "output_type": "execute_result"
    }
   ],
   "source": [
    "predictions = pd.DataFrame({'actual':test.home_value})\n",
    "predictions['baseline']=train.home_value.mean()\n",
    "RMSE_bl_t = np.sqrt(mean_squared_error(predictions.actual, predictions.baseline))\n",
    "RMSE_bl_t"
   ]
  },
  {
   "cell_type": "markdown",
   "metadata": {},
   "source": [
    "## Summary\n"
   ]
  },
  {
   "cell_type": "code",
   "execution_count": 27,
   "metadata": {},
   "outputs": [
    {
     "data": {
      "text/html": [
       "<div>\n",
       "<style scoped>\n",
       "    .dataframe tbody tr th:only-of-type {\n",
       "        vertical-align: middle;\n",
       "    }\n",
       "\n",
       "    .dataframe tbody tr th {\n",
       "        vertical-align: top;\n",
       "    }\n",
       "\n",
       "    .dataframe thead th {\n",
       "        text-align: right;\n",
       "    }\n",
       "</style>\n",
       "<table border=\"1\" class=\"dataframe\">\n",
       "  <thead>\n",
       "    <tr style=\"text-align: right;\">\n",
       "      <th></th>\n",
       "      <th>$r^2$</th>\n",
       "      <th>RMSE_Train</th>\n",
       "      <th>RMSE_Test</th>\n",
       "    </tr>\n",
       "  </thead>\n",
       "  <tbody>\n",
       "    <tr>\n",
       "      <td>Kbest</td>\n",
       "      <td>0.382629</td>\n",
       "      <td>0.174372</td>\n",
       "      <td>0.171664</td>\n",
       "    </tr>\n",
       "    <tr>\n",
       "      <td>RFE</td>\n",
       "      <td>0.386279</td>\n",
       "      <td>0.173856</td>\n",
       "      <td>0.170920</td>\n",
       "    </tr>\n",
       "    <tr>\n",
       "      <td>BaseLine</td>\n",
       "      <td>NaN</td>\n",
       "      <td>0.221924</td>\n",
       "      <td>NaN</td>\n",
       "    </tr>\n",
       "  </tbody>\n",
       "</table>\n",
       "</div>"
      ],
      "text/plain": [
       "             $r^2$  RMSE_Train  RMSE_Test\n",
       "Kbest     0.382629    0.174372   0.171664\n",
       "RFE       0.386279    0.173856   0.170920\n",
       "BaseLine       NaN    0.221924        NaN"
      ]
     },
     "execution_count": 27,
     "metadata": {},
     "output_type": "execute_result"
    }
   ],
   "source": [
    "pd.DataFrame({'$r^2$': [Kbest_r2, rfe_r2, np.nan], \n",
    "              'RMSE_Train': [RMSE_lm1, RMSE_lm2,RMSE_bl],\n",
    "             'RMSE_Test': [RMSE_lm1_t , RMSE_lm2_t,np.nan]}, \n",
    "             index = ['Kbest', 'RFE', 'BaseLine'])"
   ]
  },
  {
   "cell_type": "markdown",
   "metadata": {},
   "source": [
    "- From above data, it looks like RFE algorithm is doing the best among those three."
   ]
  },
  {
   "cell_type": "code",
   "execution_count": 28,
   "metadata": {},
   "outputs": [
    {
     "data": {
      "text/plain": [
       "array([[ 0.35688044, -0.55820597,  0.11445494]])"
      ]
     },
     "execution_count": 28,
     "metadata": {},
     "output_type": "execute_result"
    }
   ],
   "source": [
    "lm2.coef_"
   ]
  },
  {
   "cell_type": "code",
   "execution_count": 29,
   "metadata": {},
   "outputs": [
    {
     "data": {
      "text/plain": [
       "array([0.31503464])"
      ]
     },
     "execution_count": 29,
     "metadata": {},
     "output_type": "execute_result"
    }
   ],
   "source": [
    "lm2.intercept_"
   ]
  },
  {
   "cell_type": "code",
   "execution_count": null,
   "metadata": {},
   "outputs": [],
   "source": []
  }
 ],
 "metadata": {
  "kernelspec": {
   "display_name": "Python 3",
   "language": "python",
   "name": "python3"
  },
  "language_info": {
   "codemirror_mode": {
    "name": "ipython",
    "version": 3
   },
   "file_extension": ".py",
   "mimetype": "text/x-python",
   "name": "python",
   "nbconvert_exporter": "python",
   "pygments_lexer": "ipython3",
   "version": "3.7.4"
  }
 },
 "nbformat": 4,
 "nbformat_minor": 2
}
