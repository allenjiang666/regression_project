{
 "cells": [
  {
   "cell_type": "markdown",
   "metadata": {},
   "source": [
    "# PREP:\n",
    "- Goal: leave this section with a dataset that is ready to be analyzed. **Data types** are appropriate, **missing values** have been addressed, as have any data integrity issues.\n",
    "\n",
    "- The ad hoc part includes **plotting the distributions of individual variables** and using those plots to identify **outliers** and if those should be handled (and if so, how), identify **unit scales** to identify how to best scale the numeric data, as well as finding **erroneous or invalid data** that may exist in your dataframe.\n",
    "\n",
    "- Add a **data dictionary** in your notebook that defines all fields used in either your model or your analysis, and answers the question: **why did you use the fields you used**, e.g. why did you use bedroom_field1 over bedroom_field2, not why did you use number of bedrooms!\n",
    "\n",
    "- `prep.py`: The reproducible part is the handling of missing values, fixing data integrity issues, changing data types, etc."
   ]
  },
  {
   "cell_type": "code",
   "execution_count": 1,
   "metadata": {},
   "outputs": [],
   "source": [
    "from acquire import acquire_data\n",
    "import pandas as pd\n",
    "import numpy as np \n",
    "import matplotlib.pyplot as plt"
   ]
  },
  {
   "cell_type": "markdown",
   "metadata": {},
   "source": [
    "## Data Cleaning"
   ]
  },
  {
   "cell_type": "code",
   "execution_count": 2,
   "metadata": {
    "scrolled": true
   },
   "outputs": [
    {
     "data": {
      "text/html": [
       "<div>\n",
       "<style scoped>\n",
       "    .dataframe tbody tr th:only-of-type {\n",
       "        vertical-align: middle;\n",
       "    }\n",
       "\n",
       "    .dataframe tbody tr th {\n",
       "        vertical-align: top;\n",
       "    }\n",
       "\n",
       "    .dataframe thead th {\n",
       "        text-align: right;\n",
       "    }\n",
       "</style>\n",
       "<table border=\"1\" class=\"dataframe\">\n",
       "  <thead>\n",
       "    <tr style=\"text-align: right;\">\n",
       "      <th></th>\n",
       "      <th>home_size</th>\n",
       "      <th>bedroomcnt</th>\n",
       "      <th>bathroomcnt</th>\n",
       "      <th>tax_rate</th>\n",
       "      <th>yearbuilt</th>\n",
       "      <th>regionidcounty</th>\n",
       "      <th>home_value</th>\n",
       "    </tr>\n",
       "  </thead>\n",
       "  <tbody>\n",
       "    <tr>\n",
       "      <td>0</td>\n",
       "      <td>1604.0</td>\n",
       "      <td>4.0</td>\n",
       "      <td>2.0</td>\n",
       "      <td>0.012220</td>\n",
       "      <td>1950.0</td>\n",
       "      <td>3101.0</td>\n",
       "      <td>498347.0</td>\n",
       "    </tr>\n",
       "    <tr>\n",
       "      <td>1</td>\n",
       "      <td>2384.0</td>\n",
       "      <td>3.0</td>\n",
       "      <td>3.0</td>\n",
       "      <td>0.012146</td>\n",
       "      <td>1937.0</td>\n",
       "      <td>3101.0</td>\n",
       "      <td>549917.0</td>\n",
       "    </tr>\n",
       "    <tr>\n",
       "      <td>2</td>\n",
       "      <td>1574.0</td>\n",
       "      <td>3.0</td>\n",
       "      <td>2.0</td>\n",
       "      <td>0.016476</td>\n",
       "      <td>1990.0</td>\n",
       "      <td>3101.0</td>\n",
       "      <td>235272.0</td>\n",
       "    </tr>\n",
       "    <tr>\n",
       "      <td>3</td>\n",
       "      <td>1619.0</td>\n",
       "      <td>2.0</td>\n",
       "      <td>2.0</td>\n",
       "      <td>0.012371</td>\n",
       "      <td>1983.0</td>\n",
       "      <td>3101.0</td>\n",
       "      <td>340000.0</td>\n",
       "    </tr>\n",
       "    <tr>\n",
       "      <td>4</td>\n",
       "      <td>2408.0</td>\n",
       "      <td>2.0</td>\n",
       "      <td>3.0</td>\n",
       "      <td>0.012073</td>\n",
       "      <td>1952.0</td>\n",
       "      <td>3101.0</td>\n",
       "      <td>2017254.0</td>\n",
       "    </tr>\n",
       "  </tbody>\n",
       "</table>\n",
       "</div>"
      ],
      "text/plain": [
       "   home_size  bedroomcnt  bathroomcnt  tax_rate  yearbuilt  regionidcounty  \\\n",
       "0     1604.0         4.0          2.0  0.012220     1950.0          3101.0   \n",
       "1     2384.0         3.0          3.0  0.012146     1937.0          3101.0   \n",
       "2     1574.0         3.0          2.0  0.016476     1990.0          3101.0   \n",
       "3     1619.0         2.0          2.0  0.012371     1983.0          3101.0   \n",
       "4     2408.0         2.0          3.0  0.012073     1952.0          3101.0   \n",
       "\n",
       "   home_value  \n",
       "0    498347.0  \n",
       "1    549917.0  \n",
       "2    235272.0  \n",
       "3    340000.0  \n",
       "4   2017254.0  "
      ]
     },
     "execution_count": 2,
     "metadata": {},
     "output_type": "execute_result"
    }
   ],
   "source": [
    "df = acquire_data()\n",
    "df.head()"
   ]
  },
  {
   "cell_type": "code",
   "execution_count": 3,
   "metadata": {},
   "outputs": [
    {
     "data": {
      "text/html": [
       "<div>\n",
       "<style scoped>\n",
       "    .dataframe tbody tr th:only-of-type {\n",
       "        vertical-align: middle;\n",
       "    }\n",
       "\n",
       "    .dataframe tbody tr th {\n",
       "        vertical-align: top;\n",
       "    }\n",
       "\n",
       "    .dataframe thead th {\n",
       "        text-align: right;\n",
       "    }\n",
       "</style>\n",
       "<table border=\"1\" class=\"dataframe\">\n",
       "  <thead>\n",
       "    <tr style=\"text-align: right;\">\n",
       "      <th></th>\n",
       "      <th>home_size</th>\n",
       "      <th>bedroomcnt</th>\n",
       "      <th>bathroomcnt</th>\n",
       "      <th>tax_rate</th>\n",
       "      <th>yearbuilt</th>\n",
       "      <th>regionidcounty</th>\n",
       "      <th>home_value</th>\n",
       "    </tr>\n",
       "  </thead>\n",
       "  <tbody>\n",
       "    <tr>\n",
       "      <td>0</td>\n",
       "      <td>1604.0</td>\n",
       "      <td>4.0</td>\n",
       "      <td>2.0</td>\n",
       "      <td>0.012220</td>\n",
       "      <td>1950.0</td>\n",
       "      <td>3101.0</td>\n",
       "      <td>498347.0</td>\n",
       "    </tr>\n",
       "    <tr>\n",
       "      <td>1</td>\n",
       "      <td>2384.0</td>\n",
       "      <td>3.0</td>\n",
       "      <td>3.0</td>\n",
       "      <td>0.012146</td>\n",
       "      <td>1937.0</td>\n",
       "      <td>3101.0</td>\n",
       "      <td>549917.0</td>\n",
       "    </tr>\n",
       "    <tr>\n",
       "      <td>2</td>\n",
       "      <td>1574.0</td>\n",
       "      <td>3.0</td>\n",
       "      <td>2.0</td>\n",
       "      <td>0.016476</td>\n",
       "      <td>1990.0</td>\n",
       "      <td>3101.0</td>\n",
       "      <td>235272.0</td>\n",
       "    </tr>\n",
       "    <tr>\n",
       "      <td>3</td>\n",
       "      <td>1619.0</td>\n",
       "      <td>2.0</td>\n",
       "      <td>2.0</td>\n",
       "      <td>0.012371</td>\n",
       "      <td>1983.0</td>\n",
       "      <td>3101.0</td>\n",
       "      <td>340000.0</td>\n",
       "    </tr>\n",
       "    <tr>\n",
       "      <td>4</td>\n",
       "      <td>2408.0</td>\n",
       "      <td>2.0</td>\n",
       "      <td>3.0</td>\n",
       "      <td>0.012073</td>\n",
       "      <td>1952.0</td>\n",
       "      <td>3101.0</td>\n",
       "      <td>2017254.0</td>\n",
       "    </tr>\n",
       "  </tbody>\n",
       "</table>\n",
       "</div>"
      ],
      "text/plain": [
       "   home_size  bedroomcnt  bathroomcnt  tax_rate  yearbuilt  regionidcounty  \\\n",
       "0     1604.0         4.0          2.0  0.012220     1950.0          3101.0   \n",
       "1     2384.0         3.0          3.0  0.012146     1937.0          3101.0   \n",
       "2     1574.0         3.0          2.0  0.016476     1990.0          3101.0   \n",
       "3     1619.0         2.0          2.0  0.012371     1983.0          3101.0   \n",
       "4     2408.0         2.0          3.0  0.012073     1952.0          3101.0   \n",
       "\n",
       "   home_value  \n",
       "0    498347.0  \n",
       "1    549917.0  \n",
       "2    235272.0  \n",
       "3    340000.0  \n",
       "4   2017254.0  "
      ]
     },
     "execution_count": 3,
     "metadata": {},
     "output_type": "execute_result"
    }
   ],
   "source": [
    "df = df.rename(columns={'regionidzip': 'zip'})\n",
    "df.head()"
   ]
  },
  {
   "cell_type": "code",
   "execution_count": 4,
   "metadata": {},
   "outputs": [
    {
     "data": {
      "text/plain": [
       "(16075, 7)"
      ]
     },
     "execution_count": 4,
     "metadata": {},
     "output_type": "execute_result"
    }
   ],
   "source": [
    "df.shape"
   ]
  },
  {
   "cell_type": "code",
   "execution_count": 5,
   "metadata": {},
   "outputs": [
    {
     "data": {
      "text/plain": [
       "home_size         float64\n",
       "bedroomcnt        float64\n",
       "bathroomcnt       float64\n",
       "tax_rate          float64\n",
       "yearbuilt         float64\n",
       "regionidcounty    float64\n",
       "home_value        float64\n",
       "dtype: object"
      ]
     },
     "execution_count": 5,
     "metadata": {},
     "output_type": "execute_result"
    }
   ],
   "source": [
    "df.dtypes"
   ]
  },
  {
   "cell_type": "code",
   "execution_count": 6,
   "metadata": {},
   "outputs": [
    {
     "data": {
      "text/plain": [
       "home_size         40\n",
       "bedroomcnt         0\n",
       "bathroomcnt        0\n",
       "tax_rate          38\n",
       "yearbuilt         46\n",
       "regionidcounty     0\n",
       "home_value         3\n",
       "dtype: int64"
      ]
     },
     "execution_count": 6,
     "metadata": {},
     "output_type": "execute_result"
    }
   ],
   "source": [
    "df.isnull().sum()"
   ]
  },
  {
   "cell_type": "code",
   "execution_count": 7,
   "metadata": {},
   "outputs": [
    {
     "data": {
      "text/html": [
       "<div>\n",
       "<style scoped>\n",
       "    .dataframe tbody tr th:only-of-type {\n",
       "        vertical-align: middle;\n",
       "    }\n",
       "\n",
       "    .dataframe tbody tr th {\n",
       "        vertical-align: top;\n",
       "    }\n",
       "\n",
       "    .dataframe thead th {\n",
       "        text-align: right;\n",
       "    }\n",
       "</style>\n",
       "<table border=\"1\" class=\"dataframe\">\n",
       "  <thead>\n",
       "    <tr style=\"text-align: right;\">\n",
       "      <th></th>\n",
       "      <th>home_size</th>\n",
       "      <th>bedroomcnt</th>\n",
       "      <th>bathroomcnt</th>\n",
       "      <th>tax_rate</th>\n",
       "      <th>yearbuilt</th>\n",
       "      <th>regionidcounty</th>\n",
       "      <th>home_value</th>\n",
       "    </tr>\n",
       "  </thead>\n",
       "  <tbody>\n",
       "    <tr>\n",
       "      <td>5</td>\n",
       "      <td>NaN</td>\n",
       "      <td>0.0</td>\n",
       "      <td>0.0</td>\n",
       "      <td>0.014476</td>\n",
       "      <td>NaN</td>\n",
       "      <td>3101.0</td>\n",
       "      <td>5240710.0</td>\n",
       "    </tr>\n",
       "    <tr>\n",
       "      <td>1299</td>\n",
       "      <td>NaN</td>\n",
       "      <td>0.0</td>\n",
       "      <td>0.0</td>\n",
       "      <td>NaN</td>\n",
       "      <td>1990.0</td>\n",
       "      <td>3101.0</td>\n",
       "      <td>19.0</td>\n",
       "    </tr>\n",
       "    <tr>\n",
       "      <td>2081</td>\n",
       "      <td>NaN</td>\n",
       "      <td>0.0</td>\n",
       "      <td>0.0</td>\n",
       "      <td>0.011958</td>\n",
       "      <td>NaN</td>\n",
       "      <td>3101.0</td>\n",
       "      <td>9710604.0</td>\n",
       "    </tr>\n",
       "    <tr>\n",
       "      <td>2159</td>\n",
       "      <td>NaN</td>\n",
       "      <td>0.0</td>\n",
       "      <td>0.0</td>\n",
       "      <td>0.011948</td>\n",
       "      <td>NaN</td>\n",
       "      <td>3101.0</td>\n",
       "      <td>2274642.0</td>\n",
       "    </tr>\n",
       "    <tr>\n",
       "      <td>3809</td>\n",
       "      <td>NaN</td>\n",
       "      <td>0.0</td>\n",
       "      <td>0.0</td>\n",
       "      <td>NaN</td>\n",
       "      <td>NaN</td>\n",
       "      <td>3101.0</td>\n",
       "      <td>9345.0</td>\n",
       "    </tr>\n",
       "  </tbody>\n",
       "</table>\n",
       "</div>"
      ],
      "text/plain": [
       "      home_size  bedroomcnt  bathroomcnt  tax_rate  yearbuilt  regionidcounty  \\\n",
       "5           NaN         0.0          0.0  0.014476        NaN          3101.0   \n",
       "1299        NaN         0.0          0.0       NaN     1990.0          3101.0   \n",
       "2081        NaN         0.0          0.0  0.011958        NaN          3101.0   \n",
       "2159        NaN         0.0          0.0  0.011948        NaN          3101.0   \n",
       "3809        NaN         0.0          0.0       NaN        NaN          3101.0   \n",
       "\n",
       "      home_value  \n",
       "5      5240710.0  \n",
       "1299        19.0  \n",
       "2081   9710604.0  \n",
       "2159   2274642.0  \n",
       "3809      9345.0  "
      ]
     },
     "execution_count": 7,
     "metadata": {},
     "output_type": "execute_result"
    }
   ],
   "source": [
    "df[df.home_size.isnull()].head(5)"
   ]
  },
  {
   "cell_type": "code",
   "execution_count": 8,
   "metadata": {
    "scrolled": true
   },
   "outputs": [
    {
     "data": {
      "text/html": [
       "<div>\n",
       "<style scoped>\n",
       "    .dataframe tbody tr th:only-of-type {\n",
       "        vertical-align: middle;\n",
       "    }\n",
       "\n",
       "    .dataframe tbody tr th {\n",
       "        vertical-align: top;\n",
       "    }\n",
       "\n",
       "    .dataframe thead th {\n",
       "        text-align: right;\n",
       "    }\n",
       "</style>\n",
       "<table border=\"1\" class=\"dataframe\">\n",
       "  <thead>\n",
       "    <tr style=\"text-align: right;\">\n",
       "      <th></th>\n",
       "      <th>home_size</th>\n",
       "      <th>bedroomcnt</th>\n",
       "      <th>bathroomcnt</th>\n",
       "      <th>tax_rate</th>\n",
       "      <th>yearbuilt</th>\n",
       "      <th>regionidcounty</th>\n",
       "      <th>home_value</th>\n",
       "    </tr>\n",
       "  </thead>\n",
       "  <tbody>\n",
       "    <tr>\n",
       "      <td>3985</td>\n",
       "      <td>807.0</td>\n",
       "      <td>3.0</td>\n",
       "      <td>1.0</td>\n",
       "      <td>NaN</td>\n",
       "      <td>1924.0</td>\n",
       "      <td>3101.0</td>\n",
       "      <td>NaN</td>\n",
       "    </tr>\n",
       "    <tr>\n",
       "      <td>9643</td>\n",
       "      <td>NaN</td>\n",
       "      <td>0.0</td>\n",
       "      <td>0.0</td>\n",
       "      <td>NaN</td>\n",
       "      <td>NaN</td>\n",
       "      <td>3101.0</td>\n",
       "      <td>NaN</td>\n",
       "    </tr>\n",
       "    <tr>\n",
       "      <td>10047</td>\n",
       "      <td>1650.0</td>\n",
       "      <td>2.0</td>\n",
       "      <td>2.0</td>\n",
       "      <td>NaN</td>\n",
       "      <td>1987.0</td>\n",
       "      <td>2061.0</td>\n",
       "      <td>NaN</td>\n",
       "    </tr>\n",
       "  </tbody>\n",
       "</table>\n",
       "</div>"
      ],
      "text/plain": [
       "       home_size  bedroomcnt  bathroomcnt  tax_rate  yearbuilt  \\\n",
       "3985       807.0         3.0          1.0       NaN     1924.0   \n",
       "9643         NaN         0.0          0.0       NaN        NaN   \n",
       "10047     1650.0         2.0          2.0       NaN     1987.0   \n",
       "\n",
       "       regionidcounty  home_value  \n",
       "3985           3101.0         NaN  \n",
       "9643           3101.0         NaN  \n",
       "10047          2061.0         NaN  "
      ]
     },
     "execution_count": 8,
     "metadata": {},
     "output_type": "execute_result"
    }
   ],
   "source": [
    "df[df.home_value.isnull()].head()"
   ]
  },
  {
   "cell_type": "code",
   "execution_count": 9,
   "metadata": {
    "scrolled": true
   },
   "outputs": [
    {
     "data": {
      "text/html": [
       "<div>\n",
       "<style scoped>\n",
       "    .dataframe tbody tr th:only-of-type {\n",
       "        vertical-align: middle;\n",
       "    }\n",
       "\n",
       "    .dataframe tbody tr th {\n",
       "        vertical-align: top;\n",
       "    }\n",
       "\n",
       "    .dataframe thead th {\n",
       "        text-align: right;\n",
       "    }\n",
       "</style>\n",
       "<table border=\"1\" class=\"dataframe\">\n",
       "  <thead>\n",
       "    <tr style=\"text-align: right;\">\n",
       "      <th></th>\n",
       "      <th>home_size</th>\n",
       "      <th>bedroomcnt</th>\n",
       "      <th>bathroomcnt</th>\n",
       "      <th>tax_rate</th>\n",
       "      <th>yearbuilt</th>\n",
       "      <th>regionidcounty</th>\n",
       "      <th>home_value</th>\n",
       "    </tr>\n",
       "  </thead>\n",
       "  <tbody>\n",
       "    <tr>\n",
       "      <td>455</td>\n",
       "      <td>796.0</td>\n",
       "      <td>1.0</td>\n",
       "      <td>1.0</td>\n",
       "      <td>NaN</td>\n",
       "      <td>1920.0</td>\n",
       "      <td>3101.0</td>\n",
       "      <td>77615.0</td>\n",
       "    </tr>\n",
       "    <tr>\n",
       "      <td>1299</td>\n",
       "      <td>NaN</td>\n",
       "      <td>0.0</td>\n",
       "      <td>0.0</td>\n",
       "      <td>NaN</td>\n",
       "      <td>1990.0</td>\n",
       "      <td>3101.0</td>\n",
       "      <td>19.0</td>\n",
       "    </tr>\n",
       "    <tr>\n",
       "      <td>1355</td>\n",
       "      <td>1186.0</td>\n",
       "      <td>3.0</td>\n",
       "      <td>2.0</td>\n",
       "      <td>NaN</td>\n",
       "      <td>1955.0</td>\n",
       "      <td>3101.0</td>\n",
       "      <td>19482.0</td>\n",
       "    </tr>\n",
       "    <tr>\n",
       "      <td>1546</td>\n",
       "      <td>881.0</td>\n",
       "      <td>0.0</td>\n",
       "      <td>0.0</td>\n",
       "      <td>NaN</td>\n",
       "      <td>1928.0</td>\n",
       "      <td>3101.0</td>\n",
       "      <td>121159.0</td>\n",
       "    </tr>\n",
       "    <tr>\n",
       "      <td>1688</td>\n",
       "      <td>868.0</td>\n",
       "      <td>2.0</td>\n",
       "      <td>1.0</td>\n",
       "      <td>NaN</td>\n",
       "      <td>1949.0</td>\n",
       "      <td>3101.0</td>\n",
       "      <td>36964.0</td>\n",
       "    </tr>\n",
       "  </tbody>\n",
       "</table>\n",
       "</div>"
      ],
      "text/plain": [
       "      home_size  bedroomcnt  bathroomcnt  tax_rate  yearbuilt  regionidcounty  \\\n",
       "455       796.0         1.0          1.0       NaN     1920.0          3101.0   \n",
       "1299        NaN         0.0          0.0       NaN     1990.0          3101.0   \n",
       "1355     1186.0         3.0          2.0       NaN     1955.0          3101.0   \n",
       "1546      881.0         0.0          0.0       NaN     1928.0          3101.0   \n",
       "1688      868.0         2.0          1.0       NaN     1949.0          3101.0   \n",
       "\n",
       "      home_value  \n",
       "455      77615.0  \n",
       "1299        19.0  \n",
       "1355     19482.0  \n",
       "1546    121159.0  \n",
       "1688     36964.0  "
      ]
     },
     "execution_count": 9,
     "metadata": {},
     "output_type": "execute_result"
    }
   ],
   "source": [
    "df[df.tax_rate.isnull()].head()"
   ]
  },
  {
   "cell_type": "code",
   "execution_count": 10,
   "metadata": {},
   "outputs": [],
   "source": [
    "# since Null doesn't make any sense here I will drop those rows \n",
    "df.dropna(inplace = True)"
   ]
  },
  {
   "cell_type": "code",
   "execution_count": 11,
   "metadata": {},
   "outputs": [
    {
     "data": {
      "text/plain": [
       "(15996, 7)"
      ]
     },
     "execution_count": 11,
     "metadata": {},
     "output_type": "execute_result"
    }
   ],
   "source": [
    "#check shape\n",
    "df.shape"
   ]
  },
  {
   "cell_type": "code",
   "execution_count": 12,
   "metadata": {},
   "outputs": [
    {
     "data": {
      "text/plain": [
       "home_size         0\n",
       "bedroomcnt        0\n",
       "bathroomcnt       0\n",
       "tax_rate          0\n",
       "yearbuilt         0\n",
       "regionidcounty    0\n",
       "home_value        0\n",
       "dtype: int64"
      ]
     },
     "execution_count": 12,
     "metadata": {},
     "output_type": "execute_result"
    }
   ],
   "source": [
    "#validate if there is still null\n",
    "df.isnull().sum()"
   ]
  },
  {
   "cell_type": "code",
   "execution_count": 13,
   "metadata": {},
   "outputs": [
    {
     "data": {
      "text/plain": [
       "43"
      ]
     },
     "execution_count": 13,
     "metadata": {},
     "output_type": "execute_result"
    }
   ],
   "source": [
    "# since it does not make any sense if a unit without a bathroom, check if there is any\n",
    "(df.bathroomcnt == 0).sum()"
   ]
  },
  {
   "cell_type": "code",
   "execution_count": 14,
   "metadata": {},
   "outputs": [
    {
     "data": {
      "text/html": [
       "<div>\n",
       "<style scoped>\n",
       "    .dataframe tbody tr th:only-of-type {\n",
       "        vertical-align: middle;\n",
       "    }\n",
       "\n",
       "    .dataframe tbody tr th {\n",
       "        vertical-align: top;\n",
       "    }\n",
       "\n",
       "    .dataframe thead th {\n",
       "        text-align: right;\n",
       "    }\n",
       "</style>\n",
       "<table border=\"1\" class=\"dataframe\">\n",
       "  <thead>\n",
       "    <tr style=\"text-align: right;\">\n",
       "      <th></th>\n",
       "      <th>home_size</th>\n",
       "      <th>bedroomcnt</th>\n",
       "      <th>bathroomcnt</th>\n",
       "      <th>tax_rate</th>\n",
       "      <th>yearbuilt</th>\n",
       "      <th>regionidcounty</th>\n",
       "      <th>home_value</th>\n",
       "    </tr>\n",
       "  </thead>\n",
       "  <tbody>\n",
       "    <tr>\n",
       "      <td>1457</td>\n",
       "      <td>260.0</td>\n",
       "      <td>1.0</td>\n",
       "      <td>0.0</td>\n",
       "      <td>0.026812</td>\n",
       "      <td>1958.0</td>\n",
       "      <td>3101.0</td>\n",
       "      <td>9265.0</td>\n",
       "    </tr>\n",
       "    <tr>\n",
       "      <td>1458</td>\n",
       "      <td>400.0</td>\n",
       "      <td>0.0</td>\n",
       "      <td>0.0</td>\n",
       "      <td>0.022333</td>\n",
       "      <td>1959.0</td>\n",
       "      <td>3101.0</td>\n",
       "      <td>7817.0</td>\n",
       "    </tr>\n",
       "    <tr>\n",
       "      <td>2219</td>\n",
       "      <td>1402.0</td>\n",
       "      <td>0.0</td>\n",
       "      <td>0.0</td>\n",
       "      <td>0.012828</td>\n",
       "      <td>1921.0</td>\n",
       "      <td>3101.0</td>\n",
       "      <td>172328.0</td>\n",
       "    </tr>\n",
       "    <tr>\n",
       "      <td>2349</td>\n",
       "      <td>2126.0</td>\n",
       "      <td>0.0</td>\n",
       "      <td>0.0</td>\n",
       "      <td>0.013696</td>\n",
       "      <td>1946.0</td>\n",
       "      <td>3101.0</td>\n",
       "      <td>134118.0</td>\n",
       "    </tr>\n",
       "    <tr>\n",
       "      <td>2433</td>\n",
       "      <td>380.0</td>\n",
       "      <td>0.0</td>\n",
       "      <td>0.0</td>\n",
       "      <td>0.012118</td>\n",
       "      <td>1939.0</td>\n",
       "      <td>3101.0</td>\n",
       "      <td>192440.0</td>\n",
       "    </tr>\n",
       "  </tbody>\n",
       "</table>\n",
       "</div>"
      ],
      "text/plain": [
       "      home_size  bedroomcnt  bathroomcnt  tax_rate  yearbuilt  regionidcounty  \\\n",
       "1457      260.0         1.0          0.0  0.026812     1958.0          3101.0   \n",
       "1458      400.0         0.0          0.0  0.022333     1959.0          3101.0   \n",
       "2219     1402.0         0.0          0.0  0.012828     1921.0          3101.0   \n",
       "2349     2126.0         0.0          0.0  0.013696     1946.0          3101.0   \n",
       "2433      380.0         0.0          0.0  0.012118     1939.0          3101.0   \n",
       "\n",
       "      home_value  \n",
       "1457      9265.0  \n",
       "1458      7817.0  \n",
       "2219    172328.0  \n",
       "2349    134118.0  \n",
       "2433    192440.0  "
      ]
     },
     "execution_count": 14,
     "metadata": {},
     "output_type": "execute_result"
    }
   ],
   "source": [
    "# check the data shape\n",
    "df[df.bathroomcnt == 0].head()"
   ]
  },
  {
   "cell_type": "code",
   "execution_count": 15,
   "metadata": {},
   "outputs": [
    {
     "data": {
      "text/plain": [
       "(15953, 7)"
      ]
     },
     "execution_count": 15,
     "metadata": {},
     "output_type": "execute_result"
    }
   ],
   "source": [
    "#drop those rows \n",
    "df = df[df.bathroomcnt != 0]\n",
    "df.shape"
   ]
  },
  {
   "cell_type": "code",
   "execution_count": 16,
   "metadata": {},
   "outputs": [
    {
     "data": {
      "text/html": [
       "<div>\n",
       "<style scoped>\n",
       "    .dataframe tbody tr th:only-of-type {\n",
       "        vertical-align: middle;\n",
       "    }\n",
       "\n",
       "    .dataframe tbody tr th {\n",
       "        vertical-align: top;\n",
       "    }\n",
       "\n",
       "    .dataframe thead th {\n",
       "        text-align: right;\n",
       "    }\n",
       "</style>\n",
       "<table border=\"1\" class=\"dataframe\">\n",
       "  <thead>\n",
       "    <tr style=\"text-align: right;\">\n",
       "      <th></th>\n",
       "      <th>home_size</th>\n",
       "      <th>bedroomcnt</th>\n",
       "      <th>bathroomcnt</th>\n",
       "      <th>tax_rate</th>\n",
       "      <th>yearbuilt</th>\n",
       "      <th>regionidcounty</th>\n",
       "      <th>home_value</th>\n",
       "    </tr>\n",
       "  </thead>\n",
       "  <tbody>\n",
       "    <tr>\n",
       "      <td>count</td>\n",
       "      <td>15953.000000</td>\n",
       "      <td>15953.000000</td>\n",
       "      <td>15953.000000</td>\n",
       "      <td>15953.000000</td>\n",
       "      <td>15953.000000</td>\n",
       "      <td>15953.000000</td>\n",
       "      <td>1.595300e+04</td>\n",
       "    </tr>\n",
       "    <tr>\n",
       "      <td>mean</td>\n",
       "      <td>1836.923024</td>\n",
       "      <td>3.252930</td>\n",
       "      <td>2.215633</td>\n",
       "      <td>0.013343</td>\n",
       "      <td>1958.123676</td>\n",
       "      <td>2733.669717</td>\n",
       "      <td>4.634141e+05</td>\n",
       "    </tr>\n",
       "    <tr>\n",
       "      <td>std</td>\n",
       "      <td>985.023029</td>\n",
       "      <td>0.950585</td>\n",
       "      <td>1.026807</td>\n",
       "      <td>0.003730</td>\n",
       "      <td>22.113714</td>\n",
       "      <td>701.600991</td>\n",
       "      <td>6.434798e+05</td>\n",
       "    </tr>\n",
       "    <tr>\n",
       "      <td>min</td>\n",
       "      <td>320.000000</td>\n",
       "      <td>0.000000</td>\n",
       "      <td>1.000000</td>\n",
       "      <td>0.000032</td>\n",
       "      <td>1862.000000</td>\n",
       "      <td>1286.000000</td>\n",
       "      <td>1.216800e+04</td>\n",
       "    </tr>\n",
       "    <tr>\n",
       "      <td>25%</td>\n",
       "      <td>1233.000000</td>\n",
       "      <td>3.000000</td>\n",
       "      <td>2.000000</td>\n",
       "      <td>0.011919</td>\n",
       "      <td>1947.000000</td>\n",
       "      <td>3101.000000</td>\n",
       "      <td>1.819820e+05</td>\n",
       "    </tr>\n",
       "    <tr>\n",
       "      <td>50%</td>\n",
       "      <td>1592.000000</td>\n",
       "      <td>3.000000</td>\n",
       "      <td>2.000000</td>\n",
       "      <td>0.012461</td>\n",
       "      <td>1955.000000</td>\n",
       "      <td>3101.000000</td>\n",
       "      <td>3.205610e+05</td>\n",
       "    </tr>\n",
       "    <tr>\n",
       "      <td>75%</td>\n",
       "      <td>2162.000000</td>\n",
       "      <td>4.000000</td>\n",
       "      <td>3.000000</td>\n",
       "      <td>0.013691</td>\n",
       "      <td>1971.000000</td>\n",
       "      <td>3101.000000</td>\n",
       "      <td>5.285260e+05</td>\n",
       "    </tr>\n",
       "    <tr>\n",
       "      <td>max</td>\n",
       "      <td>26345.000000</td>\n",
       "      <td>25.000000</td>\n",
       "      <td>20.000000</td>\n",
       "      <td>0.155072</td>\n",
       "      <td>2015.000000</td>\n",
       "      <td>3101.000000</td>\n",
       "      <td>1.912982e+07</td>\n",
       "    </tr>\n",
       "  </tbody>\n",
       "</table>\n",
       "</div>"
      ],
      "text/plain": [
       "          home_size    bedroomcnt   bathroomcnt      tax_rate     yearbuilt  \\\n",
       "count  15953.000000  15953.000000  15953.000000  15953.000000  15953.000000   \n",
       "mean    1836.923024      3.252930      2.215633      0.013343   1958.123676   \n",
       "std      985.023029      0.950585      1.026807      0.003730     22.113714   \n",
       "min      320.000000      0.000000      1.000000      0.000032   1862.000000   \n",
       "25%     1233.000000      3.000000      2.000000      0.011919   1947.000000   \n",
       "50%     1592.000000      3.000000      2.000000      0.012461   1955.000000   \n",
       "75%     2162.000000      4.000000      3.000000      0.013691   1971.000000   \n",
       "max    26345.000000     25.000000     20.000000      0.155072   2015.000000   \n",
       "\n",
       "       regionidcounty    home_value  \n",
       "count    15953.000000  1.595300e+04  \n",
       "mean      2733.669717  4.634141e+05  \n",
       "std        701.600991  6.434798e+05  \n",
       "min       1286.000000  1.216800e+04  \n",
       "25%       3101.000000  1.819820e+05  \n",
       "50%       3101.000000  3.205610e+05  \n",
       "75%       3101.000000  5.285260e+05  \n",
       "max       3101.000000  1.912982e+07  "
      ]
     },
     "execution_count": 16,
     "metadata": {},
     "output_type": "execute_result"
    }
   ],
   "source": [
    "#check data integrity \n",
    "df.describe()"
   ]
  },
  {
   "cell_type": "markdown",
   "metadata": {},
   "source": [
    "## Ploting - Identify outliers"
   ]
  },
  {
   "cell_type": "markdown",
   "metadata": {},
   "source": [
    "### home_size"
   ]
  },
  {
   "cell_type": "code",
   "execution_count": 17,
   "metadata": {},
   "outputs": [
    {
     "data": {
      "text/plain": [
       "<matplotlib.axes._subplots.AxesSubplot at 0x11bf99ed0>"
      ]
     },
     "execution_count": 17,
     "metadata": {},
     "output_type": "execute_result"
    },
    {
     "data": {
      "image/png": "[encoded data removed]",
      "text/plain": [
       "<Figure size 432x288 with 1 Axes>"
      ]
     },
     "metadata": {
      "needs_background": "light"
     },
     "output_type": "display_data"
    }
   ],
   "source": [
    "df.home_size.plot.hist()"
   ]
  },
  {
   "cell_type": "code",
   "execution_count": 18,
   "metadata": {},
   "outputs": [
    {
     "data": {
      "text/plain": [
       "3541.3999999999996"
      ]
     },
     "execution_count": 18,
     "metadata": {},
     "output_type": "execute_result"
    }
   ],
   "source": [
    "# by looking at the plot, majority of the points located below  5000, check the percenticle to\n",
    "#keep the data below 99 percentile\n",
    "home_size_percentile = df.home_size.quantile(.95)\n",
    "home_size_percentile"
   ]
  },
  {
   "cell_type": "code",
   "execution_count": 19,
   "metadata": {},
   "outputs": [
    {
     "data": {
      "text/plain": [
       "<matplotlib.axes._subplots.AxesSubplot at 0x11a913cd0>"
      ]
     },
     "execution_count": 19,
     "metadata": {},
     "output_type": "execute_result"
    },
    {
     "data": {
      "image/png": "[encoded data removed]",
      "text/plain": [
       "<Figure size 432x288 with 1 Axes>"
      ]
     },
     "metadata": {
      "needs_background": "light"
     },
     "output_type": "display_data"
    }
   ],
   "source": [
    "df = df[df.home_size <= home_size_percentile]\n",
    "df.home_size.plot.hist()"
   ]
  },
  {
   "cell_type": "markdown",
   "metadata": {},
   "source": [
    "### bedroomcnt"
   ]
  },
  {
   "cell_type": "code",
   "execution_count": 20,
   "metadata": {},
   "outputs": [
    {
     "data": {
      "text/plain": [
       "<matplotlib.axes._subplots.AxesSubplot at 0x11b873450>"
      ]
     },
     "execution_count": 20,
     "metadata": {},
     "output_type": "execute_result"
    },
    {
     "data": {
      "image/png": "[encoded data removed]",
      "text/plain": [
       "<Figure size 432x288 with 1 Axes>"
      ]
     },
     "metadata": {
      "needs_background": "light"
     },
     "output_type": "display_data"
    }
   ],
   "source": [
    "df.bedroomcnt.plot.hist()"
   ]
  },
  {
   "cell_type": "code",
   "execution_count": 21,
   "metadata": {},
   "outputs": [
    {
     "data": {
      "text/plain": [
       "5.0"
      ]
     },
     "execution_count": 21,
     "metadata": {},
     "output_type": "execute_result"
    }
   ],
   "source": [
    "#percentile \n",
    "bedroom_percentitle = df.bedroomcnt.quantile(.95)\n",
    "bedroom_percentitle"
   ]
  },
  {
   "cell_type": "code",
   "execution_count": 22,
   "metadata": {},
   "outputs": [
    {
     "data": {
      "text/plain": [
       "<matplotlib.axes._subplots.AxesSubplot at 0x11c05ee90>"
      ]
     },
     "execution_count": 22,
     "metadata": {},
     "output_type": "execute_result"
    },
    {
     "data": {
      "image/png": "[encoded data removed]",
      "text/plain": [
       "<Figure size 432x288 with 1 Axes>"
      ]
     },
     "metadata": {
      "needs_background": "light"
     },
     "output_type": "display_data"
    }
   ],
   "source": [
    "# drop the outliers\n",
    "df = df[df.bedroomcnt <= bedroom_percentitle]\n",
    "df.bedroomcnt.plot.hist()"
   ]
  },
  {
   "cell_type": "markdown",
   "metadata": {},
   "source": [
    "### bathroomcnt"
   ]
  },
  {
   "cell_type": "code",
   "execution_count": 23,
   "metadata": {},
   "outputs": [
    {
     "data": {
      "text/plain": [
       "<matplotlib.axes._subplots.AxesSubplot at 0x11a919690>"
      ]
     },
     "execution_count": 23,
     "metadata": {},
     "output_type": "execute_result"
    },
    {
     "data": {
      "image/png": "[encoded data removed]",
      "text/plain": [
       "<Figure size 432x288 with 1 Axes>"
      ]
     },
     "metadata": {
      "needs_background": "light"
     },
     "output_type": "display_data"
    }
   ],
   "source": [
    "df.bathroomcnt.plot.hist()"
   ]
  },
  {
   "cell_type": "code",
   "execution_count": 24,
   "metadata": {},
   "outputs": [
    {
     "data": {
      "text/plain": [
       "3.0"
      ]
     },
     "execution_count": 24,
     "metadata": {},
     "output_type": "execute_result"
    }
   ],
   "source": [
    "#check outliers\n",
    "bathroom_percentile = df.bathroomcnt.quantile(.95)\n",
    "bathroom_percentile"
   ]
  },
  {
   "cell_type": "code",
   "execution_count": 25,
   "metadata": {
    "scrolled": true
   },
   "outputs": [
    {
     "data": {
      "text/plain": [
       "<matplotlib.axes._subplots.AxesSubplot at 0x11ba82ed0>"
      ]
     },
     "execution_count": 25,
     "metadata": {},
     "output_type": "execute_result"
    },
    {
     "data": {
      "image/png": "[encoded data removed]",
      "text/plain": [
       "<Figure size 432x288 with 1 Axes>"
      ]
     },
     "metadata": {
      "needs_background": "light"
     },
     "output_type": "display_data"
    }
   ],
   "source": [
    "#drop the outliers\n",
    "df = df[df.bathroomcnt <= bathroom_percentile]\n",
    "df.bathroomcnt.plot.hist()"
   ]
  },
  {
   "cell_type": "code",
   "execution_count": 26,
   "metadata": {},
   "outputs": [
    {
     "data": {
      "text/plain": [
       "2.0    7100\n",
       "1.0    3455\n",
       "3.0    3021\n",
       "2.5     682\n",
       "1.5     173\n",
       "Name: bathroomcnt, dtype: int64"
      ]
     },
     "execution_count": 26,
     "metadata": {},
     "output_type": "execute_result"
    }
   ],
   "source": [
    "df.bathroomcnt.value_counts()"
   ]
  },
  {
   "cell_type": "markdown",
   "metadata": {},
   "source": [
    "### home_value"
   ]
  },
  {
   "cell_type": "code",
   "execution_count": 27,
   "metadata": {},
   "outputs": [
    {
     "data": {
      "text/plain": [
       "<matplotlib.axes._subplots.AxesSubplot at 0x11bb79210>"
      ]
     },
     "execution_count": 27,
     "metadata": {},
     "output_type": "execute_result"
    },
    {
     "data": {
      "image/png": "[encoded data removed]",
      "text/plain": [
       "<Figure size 432x288 with 1 Axes>"
      ]
     },
     "metadata": {
      "needs_background": "light"
     },
     "output_type": "display_data"
    }
   ],
   "source": [
    "df.home_value.plot.hist()"
   ]
  },
  {
   "cell_type": "code",
   "execution_count": 28,
   "metadata": {},
   "outputs": [
    {
     "data": {
      "text/plain": [
       "877182.0"
      ]
     },
     "execution_count": 28,
     "metadata": {},
     "output_type": "execute_result"
    }
   ],
   "source": [
    "#check outliers\n",
    "homevalue_percentile = df.home_value.quantile(.95)\n",
    "homevalue_percentile"
   ]
  },
  {
   "cell_type": "code",
   "execution_count": 29,
   "metadata": {},
   "outputs": [
    {
     "data": {
      "text/plain": [
       "<matplotlib.axes._subplots.AxesSubplot at 0x11bb5cd10>"
      ]
     },
     "execution_count": 29,
     "metadata": {},
     "output_type": "execute_result"
    },
    {
     "data": {
      "image/png": "[encoded data removed]",
      "text/plain": [
       "<Figure size 432x288 with 1 Axes>"
      ]
     },
     "metadata": {
      "needs_background": "light"
     },
     "output_type": "display_data"
    }
   ],
   "source": [
    "#drop outliers\n",
    "df = df[df.home_value <= homevalue_percentile]\n",
    "df.home_value.plot.hist()"
   ]
  },
  {
   "cell_type": "markdown",
   "metadata": {},
   "source": [
    "### tax_rate"
   ]
  },
  {
   "cell_type": "code",
   "execution_count": 30,
   "metadata": {},
   "outputs": [
    {
     "data": {
      "text/plain": [
       "<matplotlib.axes._subplots.AxesSubplot at 0x11c2d3090>"
      ]
     },
     "execution_count": 30,
     "metadata": {},
     "output_type": "execute_result"
    },
    {
     "data": {
      "image/png": "[encoded data removed]",
      "text/plain": [
       "<Figure size 432x288 with 1 Axes>"
      ]
     },
     "metadata": {
      "needs_background": "light"
     },
     "output_type": "display_data"
    }
   ],
   "source": [
    "df.tax_rate.plot.hist()"
   ]
  },
  {
   "cell_type": "code",
   "execution_count": 31,
   "metadata": {},
   "outputs": [
    {
     "data": {
      "text/plain": [
       "0.018993092313873673"
      ]
     },
     "execution_count": 31,
     "metadata": {},
     "output_type": "execute_result"
    }
   ],
   "source": [
    "# check high outliers \n",
    "tax_rate_percentile = df.tax_rate.quantile(.95)\n",
    "tax_rate_percentile"
   ]
  },
  {
   "cell_type": "code",
   "execution_count": 32,
   "metadata": {
    "scrolled": true
   },
   "outputs": [
    {
     "data": {
      "text/plain": [
       "<matplotlib.axes._subplots.AxesSubplot at 0x11c2fbd10>"
      ]
     },
     "execution_count": 32,
     "metadata": {},
     "output_type": "execute_result"
    },
    {
     "data": {
      "image/png": "[encoded data removed]",
      "text/plain": [
       "<Figure size 432x288 with 1 Axes>"
      ]
     },
     "metadata": {
      "needs_background": "light"
     },
     "output_type": "display_data"
    }
   ],
   "source": [
    "df = df[df.tax_rate <= tax_rate_percentile]\n",
    "df.tax_rate.plot.hist()"
   ]
  },
  {
   "cell_type": "code",
   "execution_count": 33,
   "metadata": {},
   "outputs": [
    {
     "data": {
      "text/plain": [
       "0.010686372244698468"
      ]
     },
     "execution_count": 33,
     "metadata": {},
     "output_type": "execute_result"
    }
   ],
   "source": [
    "#check low percentile\n",
    "tax_rate_percentile = df.tax_rate.quantile(.05)\n",
    "tax_rate_percentile"
   ]
  },
  {
   "cell_type": "code",
   "execution_count": 34,
   "metadata": {
    "scrolled": false
   },
   "outputs": [
    {
     "data": {
      "text/plain": [
       "<matplotlib.axes._subplots.AxesSubplot at 0x11c48a390>"
      ]
     },
     "execution_count": 34,
     "metadata": {},
     "output_type": "execute_result"
    },
    {
     "data": {
      "image/png": "[encoded data removed]",
      "text/plain": [
       "<Figure size 432x288 with 1 Axes>"
      ]
     },
     "metadata": {
      "needs_background": "light"
     },
     "output_type": "display_data"
    }
   ],
   "source": [
    "df = df[df.tax_rate >= tax_rate_percentile]\n",
    "df.tax_rate.plot.hist()"
   ]
  },
  {
   "cell_type": "markdown",
   "metadata": {},
   "source": [
    "### yearbuilt"
   ]
  },
  {
   "cell_type": "code",
   "execution_count": 35,
   "metadata": {},
   "outputs": [
    {
     "data": {
      "text/plain": [
       "<matplotlib.axes._subplots.AxesSubplot at 0x119e59650>"
      ]
     },
     "execution_count": 35,
     "metadata": {},
     "output_type": "execute_result"
    },
    {
     "data": {
      "image/png": "[encoded data removed]",
      "text/plain": [
       "<Figure size 432x288 with 1 Axes>"
      ]
     },
     "metadata": {
      "needs_background": "light"
     },
     "output_type": "display_data"
    }
   ],
   "source": [
    "df.yearbuilt.plot.hist()"
   ]
  },
  {
   "cell_type": "markdown",
   "metadata": {},
   "source": [
    "It looks like well distributed, no need to drop outliers"
   ]
  },
  {
   "cell_type": "markdown",
   "metadata": {},
   "source": [
    "## Create new feature bedrm_per_bathrm"
   ]
  },
  {
   "cell_type": "code",
   "execution_count": 36,
   "metadata": {
    "scrolled": false
   },
   "outputs": [
    {
     "data": {
      "text/html": [
       "<div>\n",
       "<style scoped>\n",
       "    .dataframe tbody tr th:only-of-type {\n",
       "        vertical-align: middle;\n",
       "    }\n",
       "\n",
       "    .dataframe tbody tr th {\n",
       "        vertical-align: top;\n",
       "    }\n",
       "\n",
       "    .dataframe thead th {\n",
       "        text-align: right;\n",
       "    }\n",
       "</style>\n",
       "<table border=\"1\" class=\"dataframe\">\n",
       "  <thead>\n",
       "    <tr style=\"text-align: right;\">\n",
       "      <th></th>\n",
       "      <th>home_size</th>\n",
       "      <th>bedroomcnt</th>\n",
       "      <th>bathroomcnt</th>\n",
       "      <th>tax_rate</th>\n",
       "      <th>yearbuilt</th>\n",
       "      <th>regionidcounty</th>\n",
       "      <th>home_value</th>\n",
       "      <th>bedrm_per_bathrm</th>\n",
       "    </tr>\n",
       "  </thead>\n",
       "  <tbody>\n",
       "    <tr>\n",
       "      <td>0</td>\n",
       "      <td>1604.0</td>\n",
       "      <td>4.0</td>\n",
       "      <td>2.0</td>\n",
       "      <td>0.012220</td>\n",
       "      <td>1950.0</td>\n",
       "      <td>3101.0</td>\n",
       "      <td>498347.0</td>\n",
       "      <td>2.0</td>\n",
       "    </tr>\n",
       "    <tr>\n",
       "      <td>1</td>\n",
       "      <td>2384.0</td>\n",
       "      <td>3.0</td>\n",
       "      <td>3.0</td>\n",
       "      <td>0.012146</td>\n",
       "      <td>1937.0</td>\n",
       "      <td>3101.0</td>\n",
       "      <td>549917.0</td>\n",
       "      <td>1.0</td>\n",
       "    </tr>\n",
       "    <tr>\n",
       "      <td>2</td>\n",
       "      <td>1574.0</td>\n",
       "      <td>3.0</td>\n",
       "      <td>2.0</td>\n",
       "      <td>0.016476</td>\n",
       "      <td>1990.0</td>\n",
       "      <td>3101.0</td>\n",
       "      <td>235272.0</td>\n",
       "      <td>1.5</td>\n",
       "    </tr>\n",
       "    <tr>\n",
       "      <td>3</td>\n",
       "      <td>1619.0</td>\n",
       "      <td>2.0</td>\n",
       "      <td>2.0</td>\n",
       "      <td>0.012371</td>\n",
       "      <td>1983.0</td>\n",
       "      <td>3101.0</td>\n",
       "      <td>340000.0</td>\n",
       "      <td>1.0</td>\n",
       "    </tr>\n",
       "    <tr>\n",
       "      <td>6</td>\n",
       "      <td>1721.0</td>\n",
       "      <td>4.0</td>\n",
       "      <td>2.0</td>\n",
       "      <td>0.010892</td>\n",
       "      <td>1952.0</td>\n",
       "      <td>3101.0</td>\n",
       "      <td>629951.0</td>\n",
       "      <td>2.0</td>\n",
       "    </tr>\n",
       "  </tbody>\n",
       "</table>\n",
       "</div>"
      ],
      "text/plain": [
       "   home_size  bedroomcnt  bathroomcnt  tax_rate  yearbuilt  regionidcounty  \\\n",
       "0     1604.0         4.0          2.0  0.012220     1950.0          3101.0   \n",
       "1     2384.0         3.0          3.0  0.012146     1937.0          3101.0   \n",
       "2     1574.0         3.0          2.0  0.016476     1990.0          3101.0   \n",
       "3     1619.0         2.0          2.0  0.012371     1983.0          3101.0   \n",
       "6     1721.0         4.0          2.0  0.010892     1952.0          3101.0   \n",
       "\n",
       "   home_value  bedrm_per_bathrm  \n",
       "0    498347.0               2.0  \n",
       "1    549917.0               1.0  \n",
       "2    235272.0               1.5  \n",
       "3    340000.0               1.0  \n",
       "6    629951.0               2.0  "
      ]
     },
     "execution_count": 36,
     "metadata": {},
     "output_type": "execute_result"
    }
   ],
   "source": [
    "df['bedrm_per_bathrm'] = df.bedroomcnt / df.bathroomcnt\n",
    "df.head()"
   ]
  },
  {
   "cell_type": "code",
   "execution_count": 37,
   "metadata": {
    "scrolled": true
   },
   "outputs": [
    {
     "data": {
      "text/plain": [
       "<matplotlib.axes._subplots.AxesSubplot at 0x11c9d1990>"
      ]
     },
     "execution_count": 37,
     "metadata": {},
     "output_type": "execute_result"
    },
    {
     "data": {
      "image/png": "[encoded data removed]",
      "text/plain": [
       "<Figure size 432x288 with 1 Axes>"
      ]
     },
     "metadata": {
      "needs_background": "light"
     },
     "output_type": "display_data"
    }
   ],
   "source": [
    "df.bedrm_per_bathrm.plot.hist()"
   ]
  },
  {
   "cell_type": "code",
   "execution_count": 38,
   "metadata": {},
   "outputs": [
    {
     "data": {
      "text/plain": [
       "1.500000    3943\n",
       "2.000000    3340\n",
       "1.000000    1606\n",
       "1.333333    1284\n",
       "3.000000    1167\n",
       "1.666667     332\n",
       "1.600000     202\n",
       "1.200000     201\n",
       "2.500000     117\n",
       "4.000000      71\n",
       "0.666667      41\n",
       "0.800000      19\n",
       "2.666667      17\n",
       "0.500000      16\n",
       "5.000000       9\n",
       "0.000000       3\n",
       "0.333333       2\n",
       "3.333333       1\n",
       "Name: bedrm_per_bathrm, dtype: int64"
      ]
     },
     "execution_count": 38,
     "metadata": {},
     "output_type": "execute_result"
    }
   ],
   "source": [
    "df.bedrm_per_bathrm.value_counts()"
   ]
  },
  {
   "cell_type": "code",
   "execution_count": null,
   "metadata": {},
   "outputs": [],
   "source": []
  }
 ],
 "metadata": {
  "kernelspec": {
   "display_name": "Python 3",
   "language": "python",
   "name": "python3"
  },
  "language_info": {
   "codemirror_mode": {
    "name": "ipython",
    "version": 3
   },
   "file_extension": ".py",
   "mimetype": "text/x-python",
   "name": "python",
   "nbconvert_exporter": "python",
   "pygments_lexer": "ipython3",
   "version": "3.7.4"
  }
 },
 "nbformat": 4,
 "nbformat_minor": 2
}
