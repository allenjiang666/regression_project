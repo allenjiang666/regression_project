{
 "cells": [
  {
   "cell_type": "markdown",
   "metadata": {},
   "source": [
    "# SPLIT & SCALE:\n",
    "- Goal: leave this section with **2 dataframes (train & test)** and **scaled data**\n",
    "\n",
    "- `split_scale.py`: split data, scale data (create scaler, fit the scaler to train and transform the train and test using that scaler)"
   ]
  },
  {
   "cell_type": "code",
   "execution_count": 2,
   "metadata": {},
   "outputs": [],
   "source": [
    "import pandas as pd\n",
    "import numpy as np\n",
    "\n",
    "\n",
    "from prep import prep_data\n",
    "\n",
    "import warnings\n",
    "warnings.filterwarnings('ignore')"
   ]
  },
  {
   "cell_type": "code",
   "execution_count": 3,
   "metadata": {},
   "outputs": [
    {
     "data": {
      "text/html": [
       "<div>\n",
       "<style scoped>\n",
       "    .dataframe tbody tr th:only-of-type {\n",
       "        vertical-align: middle;\n",
       "    }\n",
       "\n",
       "    .dataframe tbody tr th {\n",
       "        vertical-align: top;\n",
       "    }\n",
       "\n",
       "    .dataframe thead th {\n",
       "        text-align: right;\n",
       "    }\n",
       "</style>\n",
       "<table border=\"1\" class=\"dataframe\">\n",
       "  <thead>\n",
       "    <tr style=\"text-align: right;\">\n",
       "      <th></th>\n",
       "      <th>home_size</th>\n",
       "      <th>bedroomcnt</th>\n",
       "      <th>bathroomcnt</th>\n",
       "      <th>tax_rate</th>\n",
       "      <th>yearbuilt</th>\n",
       "      <th>home_value</th>\n",
       "      <th>bedrm_per_bathrm</th>\n",
       "    </tr>\n",
       "  </thead>\n",
       "  <tbody>\n",
       "    <tr>\n",
       "      <td>0</td>\n",
       "      <td>1604.0</td>\n",
       "      <td>4.0</td>\n",
       "      <td>2.0</td>\n",
       "      <td>0.012220</td>\n",
       "      <td>1950.0</td>\n",
       "      <td>498347.0</td>\n",
       "      <td>2.0</td>\n",
       "    </tr>\n",
       "    <tr>\n",
       "      <td>1</td>\n",
       "      <td>2384.0</td>\n",
       "      <td>3.0</td>\n",
       "      <td>3.0</td>\n",
       "      <td>0.012146</td>\n",
       "      <td>1937.0</td>\n",
       "      <td>549917.0</td>\n",
       "      <td>1.0</td>\n",
       "    </tr>\n",
       "    <tr>\n",
       "      <td>2</td>\n",
       "      <td>1574.0</td>\n",
       "      <td>3.0</td>\n",
       "      <td>2.0</td>\n",
       "      <td>0.016476</td>\n",
       "      <td>1990.0</td>\n",
       "      <td>235272.0</td>\n",
       "      <td>1.5</td>\n",
       "    </tr>\n",
       "    <tr>\n",
       "      <td>3</td>\n",
       "      <td>1619.0</td>\n",
       "      <td>2.0</td>\n",
       "      <td>2.0</td>\n",
       "      <td>0.012371</td>\n",
       "      <td>1983.0</td>\n",
       "      <td>340000.0</td>\n",
       "      <td>1.0</td>\n",
       "    </tr>\n",
       "    <tr>\n",
       "      <td>6</td>\n",
       "      <td>1721.0</td>\n",
       "      <td>4.0</td>\n",
       "      <td>2.0</td>\n",
       "      <td>0.010892</td>\n",
       "      <td>1952.0</td>\n",
       "      <td>629951.0</td>\n",
       "      <td>2.0</td>\n",
       "    </tr>\n",
       "  </tbody>\n",
       "</table>\n",
       "</div>"
      ],
      "text/plain": [
       "   home_size  bedroomcnt  bathroomcnt  tax_rate  yearbuilt  home_value  \\\n",
       "0     1604.0         4.0          2.0  0.012220     1950.0    498347.0   \n",
       "1     2384.0         3.0          3.0  0.012146     1937.0    549917.0   \n",
       "2     1574.0         3.0          2.0  0.016476     1990.0    235272.0   \n",
       "3     1619.0         2.0          2.0  0.012371     1983.0    340000.0   \n",
       "6     1721.0         4.0          2.0  0.010892     1952.0    629951.0   \n",
       "\n",
       "   bedrm_per_bathrm  \n",
       "0               2.0  \n",
       "1               1.0  \n",
       "2               1.5  \n",
       "3               1.0  \n",
       "6               2.0  "
      ]
     },
     "execution_count": 3,
     "metadata": {},
     "output_type": "execute_result"
    }
   ],
   "source": [
    "df = prep_data()\n",
    "df.head()"
   ]
  },
  {
   "cell_type": "markdown",
   "metadata": {},
   "source": [
    "## Split Data"
   ]
  },
  {
   "cell_type": "code",
   "execution_count": 4,
   "metadata": {},
   "outputs": [],
   "source": [
    "from sklearn.model_selection import train_test_split\n",
    "train, test = train_test_split(df, train_size = .8, random_state = 123)"
   ]
  },
  {
   "cell_type": "code",
   "execution_count": 5,
   "metadata": {},
   "outputs": [
    {
     "data": {
      "text/plain": [
       "(9896, 2475)"
      ]
     },
     "execution_count": 5,
     "metadata": {},
     "output_type": "execute_result"
    }
   ],
   "source": [
    "train.shape[0],test.shape[0]"
   ]
  },
  {
   "cell_type": "markdown",
   "metadata": {},
   "source": [
    "## Scale Data"
   ]
  },
  {
   "cell_type": "code",
   "execution_count": 7,
   "metadata": {},
   "outputs": [
    {
     "data": {
      "text/html": [
       "<div>\n",
       "<style scoped>\n",
       "    .dataframe tbody tr th:only-of-type {\n",
       "        vertical-align: middle;\n",
       "    }\n",
       "\n",
       "    .dataframe tbody tr th {\n",
       "        vertical-align: top;\n",
       "    }\n",
       "\n",
       "    .dataframe thead th {\n",
       "        text-align: right;\n",
       "    }\n",
       "</style>\n",
       "<table border=\"1\" class=\"dataframe\">\n",
       "  <thead>\n",
       "    <tr style=\"text-align: right;\">\n",
       "      <th></th>\n",
       "      <th>home_size</th>\n",
       "      <th>bedroomcnt</th>\n",
       "      <th>bathroomcnt</th>\n",
       "      <th>tax_rate</th>\n",
       "      <th>yearbuilt</th>\n",
       "      <th>home_value</th>\n",
       "      <th>bedrm_per_bathrm</th>\n",
       "    </tr>\n",
       "  </thead>\n",
       "  <tbody>\n",
       "    <tr>\n",
       "      <td>14140</td>\n",
       "      <td>0.361642</td>\n",
       "      <td>0.6</td>\n",
       "      <td>0.0</td>\n",
       "      <td>0.066475</td>\n",
       "      <td>0.496296</td>\n",
       "      <td>0.421163</td>\n",
       "      <td>0.6</td>\n",
       "    </tr>\n",
       "    <tr>\n",
       "      <td>12285</td>\n",
       "      <td>0.225008</td>\n",
       "      <td>0.4</td>\n",
       "      <td>0.0</td>\n",
       "      <td>0.397378</td>\n",
       "      <td>0.496296</td>\n",
       "      <td>0.302009</td>\n",
       "      <td>0.4</td>\n",
       "    </tr>\n",
       "    <tr>\n",
       "      <td>13357</td>\n",
       "      <td>0.347853</td>\n",
       "      <td>0.6</td>\n",
       "      <td>0.5</td>\n",
       "      <td>0.197533</td>\n",
       "      <td>0.503704</td>\n",
       "      <td>0.324614</td>\n",
       "      <td>0.3</td>\n",
       "    </tr>\n",
       "    <tr>\n",
       "      <td>14130</td>\n",
       "      <td>0.282357</td>\n",
       "      <td>0.6</td>\n",
       "      <td>0.5</td>\n",
       "      <td>0.089810</td>\n",
       "      <td>0.518519</td>\n",
       "      <td>0.228193</td>\n",
       "      <td>0.3</td>\n",
       "    </tr>\n",
       "    <tr>\n",
       "      <td>1187</td>\n",
       "      <td>0.524914</td>\n",
       "      <td>0.6</td>\n",
       "      <td>1.0</td>\n",
       "      <td>0.668349</td>\n",
       "      <td>0.814815</td>\n",
       "      <td>0.248124</td>\n",
       "      <td>0.2</td>\n",
       "    </tr>\n",
       "  </tbody>\n",
       "</table>\n",
       "</div>"
      ],
      "text/plain": [
       "       home_size  bedroomcnt  bathroomcnt  tax_rate  yearbuilt  home_value  \\\n",
       "14140   0.361642         0.6          0.0  0.066475   0.496296    0.421163   \n",
       "12285   0.225008         0.4          0.0  0.397378   0.496296    0.302009   \n",
       "13357   0.347853         0.6          0.5  0.197533   0.503704    0.324614   \n",
       "14130   0.282357         0.6          0.5  0.089810   0.518519    0.228193   \n",
       "1187    0.524914         0.6          1.0  0.668349   0.814815    0.248124   \n",
       "\n",
       "       bedrm_per_bathrm  \n",
       "14140               0.6  \n",
       "12285               0.4  \n",
       "13357               0.3  \n",
       "14130               0.3  \n",
       "1187                0.2  "
      ]
     },
     "execution_count": 7,
     "metadata": {},
     "output_type": "execute_result"
    }
   ],
   "source": [
    "from sklearn.preprocessing import MinMaxScaler\n",
    "scaler = MinMaxScaler(copy=True, feature_range=(0,1)).fit(train)\n",
    "\n",
    "train_scaled = pd.DataFrame(scaler.transform(train), columns=train.columns.values).set_index([train.index.values])\n",
    "\n",
    "test_scaled = pd.DataFrame(scaler.transform(test), columns=test.columns.values).set_index([test.index.values])\n",
    "\n",
    "train_scaled.head()"
   ]
  },
  {
   "cell_type": "code",
   "execution_count": 1,
   "metadata": {},
   "outputs": [],
   "source": [
    "from split_scale import split_scale"
   ]
  },
  {
   "cell_type": "code",
   "execution_count": 3,
   "metadata": {},
   "outputs": [
    {
     "data": {
      "text/html": [
       "<div>\n",
       "<style scoped>\n",
       "    .dataframe tbody tr th:only-of-type {\n",
       "        vertical-align: middle;\n",
       "    }\n",
       "\n",
       "    .dataframe tbody tr th {\n",
       "        vertical-align: top;\n",
       "    }\n",
       "\n",
       "    .dataframe thead th {\n",
       "        text-align: right;\n",
       "    }\n",
       "</style>\n",
       "<table border=\"1\" class=\"dataframe\">\n",
       "  <thead>\n",
       "    <tr style=\"text-align: right;\">\n",
       "      <th></th>\n",
       "      <th>home_size</th>\n",
       "      <th>bedroomcnt</th>\n",
       "      <th>bathroomcnt</th>\n",
       "      <th>tax_rate</th>\n",
       "      <th>yearbuilt</th>\n",
       "      <th>home_value</th>\n",
       "      <th>bedrm_per_bathrm</th>\n",
       "    </tr>\n",
       "  </thead>\n",
       "  <tbody>\n",
       "    <tr>\n",
       "      <td>14140</td>\n",
       "      <td>0.361642</td>\n",
       "      <td>0.6</td>\n",
       "      <td>0.0</td>\n",
       "      <td>0.066475</td>\n",
       "      <td>0.496296</td>\n",
       "      <td>0.421163</td>\n",
       "      <td>0.6</td>\n",
       "    </tr>\n",
       "    <tr>\n",
       "      <td>12285</td>\n",
       "      <td>0.225008</td>\n",
       "      <td>0.4</td>\n",
       "      <td>0.0</td>\n",
       "      <td>0.397378</td>\n",
       "      <td>0.496296</td>\n",
       "      <td>0.302009</td>\n",
       "      <td>0.4</td>\n",
       "    </tr>\n",
       "    <tr>\n",
       "      <td>13357</td>\n",
       "      <td>0.347853</td>\n",
       "      <td>0.6</td>\n",
       "      <td>0.5</td>\n",
       "      <td>0.197533</td>\n",
       "      <td>0.503704</td>\n",
       "      <td>0.324614</td>\n",
       "      <td>0.3</td>\n",
       "    </tr>\n",
       "    <tr>\n",
       "      <td>14130</td>\n",
       "      <td>0.282357</td>\n",
       "      <td>0.6</td>\n",
       "      <td>0.5</td>\n",
       "      <td>0.089810</td>\n",
       "      <td>0.518519</td>\n",
       "      <td>0.228193</td>\n",
       "      <td>0.3</td>\n",
       "    </tr>\n",
       "    <tr>\n",
       "      <td>1187</td>\n",
       "      <td>0.524914</td>\n",
       "      <td>0.6</td>\n",
       "      <td>1.0</td>\n",
       "      <td>0.668349</td>\n",
       "      <td>0.814815</td>\n",
       "      <td>0.248124</td>\n",
       "      <td>0.2</td>\n",
       "    </tr>\n",
       "  </tbody>\n",
       "</table>\n",
       "</div>"
      ],
      "text/plain": [
       "       home_size  bedroomcnt  bathroomcnt  tax_rate  yearbuilt  home_value  \\\n",
       "14140   0.361642         0.6          0.0  0.066475   0.496296    0.421163   \n",
       "12285   0.225008         0.4          0.0  0.397378   0.496296    0.302009   \n",
       "13357   0.347853         0.6          0.5  0.197533   0.503704    0.324614   \n",
       "14130   0.282357         0.6          0.5  0.089810   0.518519    0.228193   \n",
       "1187    0.524914         0.6          1.0  0.668349   0.814815    0.248124   \n",
       "\n",
       "       bedrm_per_bathrm  \n",
       "14140               0.6  \n",
       "12285               0.4  \n",
       "13357               0.3  \n",
       "14130               0.3  \n",
       "1187                0.2  "
      ]
     },
     "execution_count": 3,
     "metadata": {},
     "output_type": "execute_result"
    }
   ],
   "source": [
    "train, test, scaler = split_scale()\n",
    "train.head()"
   ]
  },
  {
   "cell_type": "code",
   "execution_count": null,
   "metadata": {},
   "outputs": [],
   "source": []
  }
 ],
 "metadata": {
  "kernelspec": {
   "display_name": "Python 3",
   "language": "python",
   "name": "python3"
  },
  "language_info": {
   "codemirror_mode": {
    "name": "ipython",
    "version": 3
   },
   "file_extension": ".py",
   "mimetype": "text/x-python",
   "name": "python",
   "nbconvert_exporter": "python",
   "pygments_lexer": "ipython3",
   "version": "3.7.4"
  }
 },
 "nbformat": 4,
 "nbformat_minor": 2
}
