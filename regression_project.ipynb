{
 "cells": [
  {
   "cell_type": "markdown",
   "metadata": {},
   "source": [
    "# Estimate Home Value"
   ]
  },
  {
   "cell_type": "markdown",
   "metadata": {},
   "source": [
    "## Background\n",
    "- We want to be able to **<font color=red>predict the values of single unit properties</font>** that the tax district assesses using the property data from **<font color=red> May and June in 2017</font>**."
   ]
  },
  {
   "cell_type": "markdown",
   "metadata": {},
   "source": [
    "### Other notes\n",
    "- For the first iteration of your model, use only **`square feet of the home`**, **`number of bedrooms`**, and **`number of bathrooms`** to estimate the **`properties assessed value`**, 'taxvaluedollarcnt'. You can expand this to other fields after you have completed an mvp (minimally viable product).\n",
    "- You will want to **read and re-read the requirements** given by your stakeholders to be sure you are meeting all of their needs and representing it in your data, report and model.\n",
    "- You will want to do some **data validation** or QA (quality assurance) to be sure the data you gather is what you think it is.\n",
    "- You will want to make sure you are using the best fields to represent square feet of home, number of bedrooms and number of bathrooms. best => **the most accurate and available information**. You will need to do some data investigation in the database and use your domain expertise to make some judgement calls."
   ]
  },
  {
   "cell_type": "markdown",
   "metadata": {},
   "source": [
    "## Specification\n",
    "### Goals\n",
    "- Your customer is the **zillow data science team**. state your goals as if you were delivering this to zillow. They have asked for something from you and you are basically communicating in a more concise way, and very clearly, the goals as you understand them and as you have taken and acted upon through your research.\n",
    "\n"
   ]
  },
  {
   "cell_type": "markdown",
   "metadata": {},
   "source": [
    "### Deliverables\n",
    "- What should the **zillow team** expect to receive from you? Again, as you were communicating to them, not to your instructors.\n",
    "1. A report (in the form of a `presentation`, both verbal and through a slides)\n",
    "    - The report/presentation slides should summarize your findings about the drivers of the Zestimate error. This will come from the analysis you do during the exploration phase of the pipeline. In the report, you will have charts that visually tell the story of what is driving the errors.\n",
    "\n",
    "2. `A github repository` containing your jupyter notebook that walks through the pipeline along with the .py files necessary to **reproduce your model**.\n",
    "    - model must be reproducible by someone with their own env.py file"
   ]
  },
  {
   "cell_type": "markdown",
   "metadata": {},
   "source": [
    "## The Pipeline\n",
    "### PROJECT PLANNING & README\n",
    "Brainstorming ideas, hypotheses, related to how variables might impact or relate to each other, both within independent variables and between the independent variables and dependent variable, and also related to any ideas for new features you may have while first looking at the existing variables and challenge ahead of you.\n",
    "\n",
    "Have a detailed README.md file for anyone who wants to check out your project. In this file should be a description of what the project is, and any instructions necessary for someone else to clone your project and run the code on their own laptop."
   ]
  },
  {
   "cell_type": "markdown",
   "metadata": {},
   "source": [
    "### ACQUIRE:\n",
    "- Goal: leave this section with a dataframe ready to prepare.\n",
    "\n",
    "- The ad hoc part includes **summarizing your data** as you read it in and begin to explore, look at the **first few rows, data types, summary stats, column names, shape of the data frame, etc**.\n",
    "\n",
    "- `acquire.py`: The reproducible part is the gathering data from SQL."
   ]
  },
  {
   "cell_type": "markdown",
   "metadata": {},
   "source": [
    "### PREP:\n",
    "- Goal: leave this section with a dataset that is ready to be analyzed. **Data types** are appropriate, **missing values** have been addressed, as have any data integrity issues.\n",
    "\n",
    "- The ad hoc part includes **plotting the distributions of individual variables** and using those plots to identify **outliers** and if those should be handled (and if so, how), identify **unit scales** to identify how to best scale the numeric data, as well as finding **erroneous or invalid data** that may exist in your dataframe.\n",
    "\n",
    "- Add a **data dictionary** in your notebook that defines all fields used in either your model or your analysis, and answers the question: **why did you use the fields you used**, e.g. why did you use bedroom_field1 over bedroom_field2, not why did you use number of bedrooms!\n",
    "\n",
    "- `prep.py`: The reproducible part is the handling of missing values, fixing data integrity issues, changing data types, etc."
   ]
  },
  {
   "cell_type": "markdown",
   "metadata": {},
   "source": [
    "### SPLIT & SCALE:\n",
    "- Goal: leave this section with **2 dataframes (train & test)** and **scaled data**\n",
    "\n",
    "- `split_scale.py`: split data, scale data (create scaler, fit the scaler to train and transform the train and test using that scaler)"
   ]
  },
  {
   "cell_type": "markdown",
   "metadata": {},
   "source": [
    "### DATA EXPLORATION\n",
    "- Goal: Address each of the questions you posed in your planning and brainstorming and any others you have come up with along the way through **visual or statistical analysis**.\n",
    "\n",
    "- When you have completed this step, you will have the findings from your analysis that will be used in your final report, answers to specific questions your customers has asked, and information to move forward toward building a model.\n",
    "\n",
    "- Run at least **1 t-test** and **1 correlation test** (but as many as you need!)\n",
    "\n",
    "- **Visualize** all combinations of variables in some way(s).\n",
    "\n",
    "- What **independent variables** are **correlated** with the **dependent**? (this is good)\n",
    "\n",
    "- Which **independent variables** are **correlated** with other **independent** variables? (this is not so good and needs to be addressed)\n",
    "\n",
    "- **Summarize** your takeaways and conclusions."
   ]
  },
  {
   "cell_type": "markdown",
   "metadata": {},
   "source": [
    "### FEATURE SELECTION\n",
    "- Goal: leave this section with a dataframe with the **features** to be used to build your model.\n",
    "\n",
    "- Are there **new features** you could create based on existing features that might be helpful?\n",
    "\n",
    "- You could use **feature selection techniques** to see if there are any that are not adding value to the model.\n",
    "\n",
    "- `feature_selection.py`: to run whatever functions need to be run to end with a dataframe that contains the features that will be used to model the data."
   ]
  },
  {
   "cell_type": "markdown",
   "metadata": {},
   "source": [
    "### MODELING & EVALUATION\n",
    "- Goal: develop a **regression model** that performs better than a **baseline**.\n",
    "\n",
    "- You must **evaluate a baseline model**, and show how the model you end up with performs better than that.\n",
    "\n",
    "- `model.py`: will have the functions to fit, predict and evaluate the model\n",
    "\n",
    "- Your notebook will contain **various algorithms** and/or hyperparameters tried, along with the evaluation code and results, before settling on the final algorithm.\n",
    "\n",
    "- Be sure and evaluate your model using the **standard techniques**: plotting the residuals, computing the evaluation metric (SSE, RMSE, and/or MSE), comparing to baseline, plotting y by y_hat"
   ]
  },
  {
   "cell_type": "code",
   "execution_count": null,
   "metadata": {},
   "outputs": [],
   "source": []
  }
 ],
 "metadata": {
  "kernelspec": {
   "display_name": "Python 3",
   "language": "python",
   "name": "python3"
  },
  "language_info": {
   "codemirror_mode": {
    "name": "ipython",
    "version": 3
   },
   "file_extension": ".py",
   "mimetype": "text/x-python",
   "name": "python",
   "nbconvert_exporter": "python",
   "pygments_lexer": "ipython3",
   "version": "3.7.4"
  }
 },
 "nbformat": 4,
 "nbformat_minor": 2
}
